{
 "cells": [
  {
   "cell_type": "markdown",
   "id": "619bdaaa",
   "metadata": {},
   "source": [
    "[![Open in Colab](https://colab.research.google.com/assets/colab-badge.svg)](https://colab.research.google.com/github/ManuelEspejo/NLP-Sentiment-Analysis-Mental-Health/blob/main/text-classification-with-neural-networks.ipynb)"
   ]
  },
  {
   "cell_type": "markdown",
   "id": "c527a10f",
   "metadata": {
    "papermill": {
     "duration": 0.024005,
     "end_time": "2023-03-17T16:32:57.867286",
     "exception": false,
     "start_time": "2023-03-17T16:32:57.843281",
     "status": "completed"
    },
    "tags": []
   },
   "source": [
    "## Index\n",
    "* [Imports](#Imports)\n",
    "* [Loading data](#Loading-data)\n",
    "* [Exploring data](#Exploring-data)\n",
    "* [Split data](#Split-data)\n",
    "\t* [Split into subsets](#Split-into-subsets)\n",
    "\t* [Split into features and labels](#Split-into-features-and-labels)\n",
    "* [Data visualizations](#Data-visualizations)\n",
    "* [Baseline](#Baseline)\n",
    "\t* [Results Baseline](#Results-Baseline)\n",
    "* [Text vectorizer](#Text-vectorizer)\n",
    "\t* [Exploration for vectorizer](#Exploration-for-vectorizer)\n",
    "\t* [Creating vectorizer layer](#Creating-vectorizer-layer)\n",
    "\t\t* [Checking how the vectorizer works](#Checking-how-the-vectorizer-works)\n",
    "* [Word embeddings](#Word-embeddings)\n",
    "* [Creating datasets for the models](#Creating-datasets-for-the-models)\n",
    "* [Dense model](#Dense-model)\n",
    "\t* [Results](#Results-Dense)\n",
    "* [LSTM model](#LSTM-model)\n",
    "\t* [Results](#Results-LSTM)\n",
    "* [Conv1D model](#Conv1D-model)\n",
    "\t* [Results](#Results-Conv1D)\n",
    "* [Final visualizations](#Final-visualizations)\n",
    "    * [Comparing results](#Comparing-results)\n",
    "    * [Confusion matrices](#Confusion-matrices)\n",
    "* [Evaluating model on test set](#Evaluating-model-on-test-set)\n",
    "* [Worst predictions (test set)](#Worst-predictions-(test-set))\n",
    "\n",
    "    \n",
    "     "
   ]
  },
  {
   "cell_type": "markdown",
   "id": "34df8a87",
   "metadata": {
    "papermill": {
     "duration": 0.022062,
     "end_time": "2023-03-17T16:32:57.913833",
     "exception": false,
     "start_time": "2023-03-17T16:32:57.891771",
     "status": "completed"
    },
    "tags": []
   },
   "source": [
    "# Imports"
   ]
  },
  {
   "cell_type": "code",
   "execution_count": 2,
   "id": "2e5140d2",
   "metadata": {
    "execution": {
     "iopub.execute_input": "2023-03-17T16:32:57.960317Z",
     "iopub.status.busy": "2023-03-17T16:32:57.959543Z",
     "iopub.status.idle": "2023-03-17T16:33:08.364499Z",
     "shell.execute_reply": "2023-03-17T16:33:08.363261Z"
    },
    "papermill": {
     "duration": 10.43163,
     "end_time": "2023-03-17T16:33:08.367404",
     "exception": false,
     "start_time": "2023-03-17T16:32:57.935774",
     "status": "completed"
    },
    "scrolled": true,
    "tags": []
   },
   "outputs": [],
   "source": [
    "import matplotlib.pyplot as plt\n",
    "import numpy as np\n",
    "import pandas as pd\n",
    "import tensorflow as tf\n",
    "import zipfile\n",
    "\n",
    "import random\n",
    "\n",
    "from sklearn.model_selection import train_test_split\n",
    "from sklearn import pipeline\n",
    "from sklearn.feature_extraction.text import TfidfVectorizer\n",
    "from sklearn.naive_bayes import MultinomialNB\n",
    "from sklearn.metrics import (accuracy_score,\n",
    "                             precision_recall_fscore_support,\n",
    "                             confusion_matrix,\n",
    "                             ConfusionMatrixDisplay)\n",
    "\n",
    "from keras.utils import plot_model\n",
    "from keras import Model\n",
    "from keras.layers import (Conv1D,\n",
    "                          Dense,\n",
    "                          Dropout,\n",
    "                          Embedding,\n",
    "                          Flatten,\n",
    "                          GlobalMaxPooling1D,\n",
    "                          Input,\n",
    "                          LSTM,\n",
    "                          TextVectorization)"
   ]
  },
  {
   "cell_type": "code",
   "execution_count": 3,
   "id": "ca4141a0",
   "metadata": {},
   "outputs": [
    {
     "name": "stdout",
     "output_type": "stream",
     "text": [
      "2.10.0\n"
     ]
    }
   ],
   "source": [
    "print(tf.__version__)"
   ]
  },
  {
   "cell_type": "markdown",
   "id": "e9b85300",
   "metadata": {},
   "source": [
    "# Checking GPU"
   ]
  },
  {
   "cell_type": "code",
   "execution_count": 4,
   "id": "4d517e89",
   "metadata": {},
   "outputs": [
    {
     "name": "stdout",
     "output_type": "stream",
     "text": [
      "Tue Jun 27 20:15:39 2023       \r\n",
      "+-----------------------------------------------------------------------------+\r\n",
      "| NVIDIA-SMI 525.116.04   Driver Version: 525.116.04   CUDA Version: 12.0     |\r\n",
      "|-------------------------------+----------------------+----------------------+\r\n",
      "| GPU  Name        Persistence-M| Bus-Id        Disp.A | Volatile Uncorr. ECC |\r\n",
      "| Fan  Temp  Perf  Pwr:Usage/Cap|         Memory-Usage | GPU-Util  Compute M. |\r\n",
      "|                               |                      |               MIG M. |\r\n",
      "|===============================+======================+======================|\r\n",
      "|   0  NVIDIA GeForce ...  Off  | 00000000:09:00.0  On |                  N/A |\r\n",
      "| 38%   40C    P8    N/A /  85W |    476MiB /  4096MiB |      2%      Default |\r\n",
      "|                               |                      |                  N/A |\r\n",
      "+-------------------------------+----------------------+----------------------+\r\n",
      "                                                                               \r\n",
      "+-----------------------------------------------------------------------------+\r\n",
      "| Processes:                                                                  |\r\n",
      "|  GPU   GI   CI        PID   Type   Process name                  GPU Memory |\r\n",
      "|        ID   ID                                                   Usage      |\r\n",
      "|=============================================================================|\r\n",
      "|    0   N/A  N/A      1842      G   /usr/lib/xorg/Xorg                251MiB |\r\n",
      "|    0   N/A  N/A      1990      G   /usr/bin/gnome-shell               39MiB |\r\n",
      "|    0   N/A  N/A      7139    C+G   ...610069330497077220,262144       93MiB |\r\n",
      "|    0   N/A  N/A     10188      G   ...RendererForSitePerProcess       87MiB |\r\n",
      "+-----------------------------------------------------------------------------+\r\n"
     ]
    }
   ],
   "source": [
    "!nvidia-smi"
   ]
  },
  {
   "cell_type": "markdown",
   "id": "fa1b5c0a",
   "metadata": {
    "papermill": {
     "duration": 0.022322,
     "end_time": "2023-03-17T16:33:08.412250",
     "exception": false,
     "start_time": "2023-03-17T16:33:08.389928",
     "status": "completed"
    },
    "tags": []
   },
   "source": [
    "# Loading data"
   ]
  },
  {
   "cell_type": "code",
   "execution_count": 8,
   "id": "38d865e1",
   "metadata": {},
   "outputs": [],
   "source": [
    "# Extracting zip file downloaded from kaggle (https://www.kaggle.com/datasets/reihanenamdari/mental-health-corpus)\n",
    "with zipfile.ZipFile(\"Data/archive.zip\", \"r\") as zip_ref:\n",
    "    zip_ref.extractall(\"Data/\")"
   ]
  },
  {
   "cell_type": "code",
   "execution_count": 9,
   "id": "44b1d57c",
   "metadata": {
    "execution": {
     "iopub.execute_input": "2023-03-17T16:33:08.461549Z",
     "iopub.status.busy": "2023-03-17T16:33:08.460277Z",
     "iopub.status.idle": "2023-03-17T16:33:08.944843Z",
     "shell.execute_reply": "2023-03-17T16:33:08.943493Z"
    },
    "papermill": {
     "duration": 0.512034,
     "end_time": "2023-03-17T16:33:08.947371",
     "exception": false,
     "start_time": "2023-03-17T16:33:08.435337",
     "status": "completed"
    },
    "tags": []
   },
   "outputs": [
    {
     "data": {
      "text/html": [
       "<div>\n",
       "<style scoped>\n",
       "    .dataframe tbody tr th:only-of-type {\n",
       "        vertical-align: middle;\n",
       "    }\n",
       "\n",
       "    .dataframe tbody tr th {\n",
       "        vertical-align: top;\n",
       "    }\n",
       "\n",
       "    .dataframe thead th {\n",
       "        text-align: right;\n",
       "    }\n",
       "</style>\n",
       "<table border=\"1\" class=\"dataframe\">\n",
       "  <thead>\n",
       "    <tr style=\"text-align: right;\">\n",
       "      <th></th>\n",
       "      <th>text</th>\n",
       "      <th>label</th>\n",
       "    </tr>\n",
       "  </thead>\n",
       "  <tbody>\n",
       "    <tr>\n",
       "      <th>0</th>\n",
       "      <td>dear american teens question dutch person hear...</td>\n",
       "      <td>0</td>\n",
       "    </tr>\n",
       "    <tr>\n",
       "      <th>1</th>\n",
       "      <td>nothing look forward lifei dont many reasons k...</td>\n",
       "      <td>1</td>\n",
       "    </tr>\n",
       "    <tr>\n",
       "      <th>2</th>\n",
       "      <td>music recommendations im looking expand playli...</td>\n",
       "      <td>0</td>\n",
       "    </tr>\n",
       "    <tr>\n",
       "      <th>3</th>\n",
       "      <td>im done trying feel betterthe reason im still ...</td>\n",
       "      <td>1</td>\n",
       "    </tr>\n",
       "    <tr>\n",
       "      <th>4</th>\n",
       "      <td>worried  year old girl subject domestic physic...</td>\n",
       "      <td>1</td>\n",
       "    </tr>\n",
       "    <tr>\n",
       "      <th>5</th>\n",
       "      <td>hey rredflag sure right place post this goes  ...</td>\n",
       "      <td>1</td>\n",
       "    </tr>\n",
       "    <tr>\n",
       "      <th>6</th>\n",
       "      <td>feel like someone needs hear tonight feeling r...</td>\n",
       "      <td>0</td>\n",
       "    </tr>\n",
       "    <tr>\n",
       "      <th>7</th>\n",
       "      <td>deserve liveif died right noone would carei re...</td>\n",
       "      <td>1</td>\n",
       "    </tr>\n",
       "    <tr>\n",
       "      <th>8</th>\n",
       "      <td>feels good ive set dateim killing friday nice ...</td>\n",
       "      <td>1</td>\n",
       "    </tr>\n",
       "    <tr>\n",
       "      <th>9</th>\n",
       "      <td>live guiltok made stupid random choice  its ge...</td>\n",
       "      <td>1</td>\n",
       "    </tr>\n",
       "  </tbody>\n",
       "</table>\n",
       "</div>"
      ],
      "text/plain": [
       "                                                text  label\n",
       "0  dear american teens question dutch person hear...      0\n",
       "1  nothing look forward lifei dont many reasons k...      1\n",
       "2  music recommendations im looking expand playli...      0\n",
       "3  im done trying feel betterthe reason im still ...      1\n",
       "4  worried  year old girl subject domestic physic...      1\n",
       "5  hey rredflag sure right place post this goes  ...      1\n",
       "6  feel like someone needs hear tonight feeling r...      0\n",
       "7  deserve liveif died right noone would carei re...      1\n",
       "8  feels good ive set dateim killing friday nice ...      1\n",
       "9  live guiltok made stupid random choice  its ge...      1"
      ]
     },
     "execution_count": 9,
     "metadata": {},
     "output_type": "execute_result"
    }
   ],
   "source": [
    "# Pandas DataFrame\n",
    "dataframe = pd.read_csv(\"Data/mental_health.csv\")\n",
    "dataframe.head(10)"
   ]
  },
  {
   "cell_type": "markdown",
   "id": "190d6133",
   "metadata": {
    "papermill": {
     "duration": 0.022408,
     "end_time": "2023-03-17T16:33:08.992284",
     "exception": false,
     "start_time": "2023-03-17T16:33:08.969876",
     "status": "completed"
    },
    "tags": []
   },
   "source": [
    "# Exploring data"
   ]
  },
  {
   "cell_type": "code",
   "execution_count": 5,
   "id": "4bb4f08e",
   "metadata": {
    "execution": {
     "iopub.execute_input": "2023-03-17T16:33:09.038493Z",
     "iopub.status.busy": "2023-03-17T16:33:09.038066Z",
     "iopub.status.idle": "2023-03-17T16:33:09.069272Z",
     "shell.execute_reply": "2023-03-17T16:33:09.068061Z"
    },
    "papermill": {
     "duration": 0.057892,
     "end_time": "2023-03-17T16:33:09.072449",
     "exception": false,
     "start_time": "2023-03-17T16:33:09.014557",
     "status": "completed"
    },
    "tags": []
   },
   "outputs": [
    {
     "name": "stdout",
     "output_type": "stream",
     "text": [
      "<class 'pandas.core.frame.DataFrame'>\n",
      "RangeIndex: 27977 entries, 0 to 27976\n",
      "Data columns (total 2 columns):\n",
      " #   Column  Non-Null Count  Dtype \n",
      "---  ------  --------------  ----- \n",
      " 0   text    27977 non-null  object\n",
      " 1   label   27977 non-null  int64 \n",
      "dtypes: int64(1), object(1)\n",
      "memory usage: 437.3+ KB\n"
     ]
    }
   ],
   "source": [
    "# General info\n",
    "dataframe.info()"
   ]
  },
  {
   "cell_type": "code",
   "execution_count": 6,
   "id": "6cd18f40",
   "metadata": {
    "execution": {
     "iopub.execute_input": "2023-03-17T16:33:09.121060Z",
     "iopub.status.busy": "2023-03-17T16:33:09.120297Z",
     "iopub.status.idle": "2023-03-17T16:33:09.129971Z",
     "shell.execute_reply": "2023-03-17T16:33:09.128697Z"
    },
    "papermill": {
     "duration": 0.035891,
     "end_time": "2023-03-17T16:33:09.132221",
     "exception": false,
     "start_time": "2023-03-17T16:33:09.096330",
     "status": "completed"
    },
    "tags": []
   },
   "outputs": [
    {
     "data": {
      "text/plain": [
       "0    14139\n",
       "1    13838\n",
       "Name: label, dtype: int64"
      ]
     },
     "execution_count": 6,
     "metadata": {},
     "output_type": "execute_result"
    }
   ],
   "source": [
    "# Labels count\n",
    "dataframe[\"label\"].value_counts()"
   ]
  },
  {
   "cell_type": "code",
   "execution_count": 7,
   "id": "1fb11e81",
   "metadata": {
    "execution": {
     "iopub.execute_input": "2023-03-17T16:33:09.179887Z",
     "iopub.status.busy": "2023-03-17T16:33:09.179398Z",
     "iopub.status.idle": "2023-03-17T16:33:09.192343Z",
     "shell.execute_reply": "2023-03-17T16:33:09.191399Z"
    },
    "papermill": {
     "duration": 0.039639,
     "end_time": "2023-03-17T16:33:09.194432",
     "exception": false,
     "start_time": "2023-03-17T16:33:09.154793",
     "status": "completed"
    },
    "tags": []
   },
   "outputs": [
    {
     "data": {
      "text/plain": [
       "text     False\n",
       "label    False\n",
       "dtype: bool"
      ]
     },
     "execution_count": 7,
     "metadata": {},
     "output_type": "execute_result"
    }
   ],
   "source": [
    "# Detecting missing values \n",
    "dataframe.isna().any()"
   ]
  },
  {
   "cell_type": "code",
   "execution_count": 8,
   "id": "820367d6",
   "metadata": {
    "execution": {
     "iopub.execute_input": "2023-03-17T16:33:09.241974Z",
     "iopub.status.busy": "2023-03-17T16:33:09.241523Z",
     "iopub.status.idle": "2023-03-17T16:33:09.832363Z",
     "shell.execute_reply": "2023-03-17T16:33:09.830924Z"
    },
    "papermill": {
     "duration": 0.617753,
     "end_time": "2023-03-17T16:33:09.834892",
     "exception": false,
     "start_time": "2023-03-17T16:33:09.217139",
     "status": "completed"
    },
    "scrolled": true,
    "tags": []
   },
   "outputs": [
    {
     "name": "stdout",
     "output_type": "stream",
     "text": [
      "Total words: 2007613 | Unique words: 72649\n"
     ]
    }
   ],
   "source": [
    "# Number of words/unique words\n",
    "total_words =  ' '.join(dataframe['text'].values)\n",
    "unique_words = set(total_words.lower().split())\n",
    "\n",
    "print(f\"Total words: {len(total_words.split())} | Unique words: {len(unique_words)}\")"
   ]
  },
  {
   "cell_type": "code",
   "execution_count": 9,
   "id": "76a8cf28",
   "metadata": {
    "execution": {
     "iopub.execute_input": "2023-03-17T16:33:09.882474Z",
     "iopub.status.busy": "2023-03-17T16:33:09.881997Z",
     "iopub.status.idle": "2023-03-17T16:33:10.569193Z",
     "shell.execute_reply": "2023-03-17T16:33:10.567987Z"
    },
    "papermill": {
     "duration": 0.714479,
     "end_time": "2023-03-17T16:33:10.572096",
     "exception": false,
     "start_time": "2023-03-17T16:33:09.857617",
     "status": "completed"
    },
    "tags": []
   },
   "outputs": [
    {
     "data": {
      "text/plain": [
       "im                 34720\n",
       "like               22300\n",
       "want               17299\n",
       "know               15475\n",
       "feel               14508\n",
       "                   ...  \n",
       "minstrelization        1\n",
       "suggestsbr             1\n",
       "trevilian              1\n",
       "cultists               1\n",
       "bridei                 1\n",
       "Length: 72649, dtype: int64"
      ]
     },
     "execution_count": 9,
     "metadata": {},
     "output_type": "execute_result"
    }
   ],
   "source": [
    "# Counting each word\n",
    "word_count = pd.value_counts(total_words.split())\n",
    "word_count.sort_values(ascending=False) # Sorted from most frequent"
   ]
  },
  {
   "cell_type": "code",
   "execution_count": 10,
   "id": "801bf053",
   "metadata": {
    "execution": {
     "iopub.execute_input": "2023-03-17T16:33:10.620698Z",
     "iopub.status.busy": "2023-03-17T16:33:10.620004Z",
     "iopub.status.idle": "2023-03-17T16:33:10.635418Z",
     "shell.execute_reply": "2023-03-17T16:33:10.634049Z"
    },
    "papermill": {
     "duration": 0.042567,
     "end_time": "2023-03-17T16:33:10.638103",
     "exception": false,
     "start_time": "2023-03-17T16:33:10.595536",
     "status": "completed"
    },
    "tags": []
   },
   "outputs": [
    {
     "data": {
      "text/plain": [
       "im         34720\n",
       "like       22300\n",
       "want       17299\n",
       "know       15475\n",
       "feel       14508\n",
       "life       14386\n",
       "get        13094\n",
       "one        12405\n",
       "me         12313\n",
       "even       11497\n",
       "ive        11287\n",
       "people     11249\n",
       "would      11001\n",
       "time       10829\n",
       "cant       10446\n",
       "it         10212\n",
       "really     10187\n",
       "think       8615\n",
       "never       8031\n",
       "going       7959\n",
       "go          7898\n",
       "dont        7829\n",
       "much        7546\n",
       "friends     7071\n",
       "day         6944\n",
       "dtype: int64"
      ]
     },
     "execution_count": 10,
     "metadata": {},
     "output_type": "execute_result"
    }
   ],
   "source": [
    "# Top 25 common words\n",
    "word_count[:25]"
   ]
  },
  {
   "cell_type": "code",
   "execution_count": 11,
   "id": "16621405",
   "metadata": {
    "execution": {
     "iopub.execute_input": "2023-03-17T16:33:10.690420Z",
     "iopub.status.busy": "2023-03-17T16:33:10.689973Z",
     "iopub.status.idle": "2023-03-17T16:33:10.697684Z",
     "shell.execute_reply": "2023-03-17T16:33:10.696685Z"
    },
    "papermill": {
     "duration": 0.03879,
     "end_time": "2023-03-17T16:33:10.700175",
     "exception": false,
     "start_time": "2023-03-17T16:33:10.661385",
     "status": "completed"
    },
    "tags": []
   },
   "outputs": [
    {
     "data": {
      "text/plain": [
       "inteded              1\n",
       "bingus               1\n",
       "thoguht              1\n",
       "myselfpassive        1\n",
       "beehive              1\n",
       "covertly             1\n",
       "ughis                1\n",
       "coerces              1\n",
       "topoftheline         1\n",
       "stateoftheart        1\n",
       "businessasusual      1\n",
       "unanticipated        1\n",
       "barbarity            1\n",
       "russkies             1\n",
       "pointedly            1\n",
       "krzyzewski           1\n",
       "lateesha             1\n",
       "lafayette            1\n",
       "depressionchronic    1\n",
       "fatigueim            1\n",
       "weightlift           1\n",
       "trintellix           1\n",
       "grosses              1\n",
       "doall                1\n",
       "bridei               1\n",
       "dtype: int64"
      ]
     },
     "execution_count": 11,
     "metadata": {},
     "output_type": "execute_result"
    }
   ],
   "source": [
    "# 25 uncommon words\n",
    "word_count[-25:]"
   ]
  },
  {
   "cell_type": "code",
   "execution_count": 12,
   "id": "3bc25bbe",
   "metadata": {
    "execution": {
     "iopub.execute_input": "2023-03-17T16:33:10.749402Z",
     "iopub.status.busy": "2023-03-17T16:33:10.748687Z",
     "iopub.status.idle": "2023-03-17T16:33:11.205973Z",
     "shell.execute_reply": "2023-03-17T16:33:11.204694Z"
    },
    "papermill": {
     "duration": 0.485663,
     "end_time": "2023-03-17T16:33:11.208852",
     "exception": false,
     "start_time": "2023-03-17T16:33:10.723189",
     "status": "completed"
    },
    "tags": []
   },
   "outputs": [
    {
     "data": {
      "image/png": "[encoded data removed]",
      "text/plain": [
       "<Figure size 1000x1000 with 1 Axes>"
      ]
     },
     "metadata": {},
     "output_type": "display_data"
    }
   ],
   "source": [
    "# Visualizing frequency\n",
    "word_count[:20].plot.barh(figsize=(10,10),\n",
    "                          fontsize=15,\n",
    "                          colormap=\"Pastel2\",\n",
    "                          title=\"Word frequency\").title.set_size(25)\n"
   ]
  },
  {
   "cell_type": "markdown",
   "id": "cf24b32c",
   "metadata": {
    "papermill": {
     "duration": 0.023698,
     "end_time": "2023-03-17T16:33:11.256829",
     "exception": false,
     "start_time": "2023-03-17T16:33:11.233131",
     "status": "completed"
    },
    "tags": []
   },
   "source": [
    "# Split data"
   ]
  },
  {
   "cell_type": "markdown",
   "id": "2508339c",
   "metadata": {
    "papermill": {
     "duration": 0.023436,
     "end_time": "2023-03-17T16:33:11.304322",
     "exception": false,
     "start_time": "2023-03-17T16:33:11.280886",
     "status": "completed"
    },
    "tags": []
   },
   "source": [
    "## Split into subsets"
   ]
  },
  {
   "cell_type": "code",
   "execution_count": 13,
   "id": "9ed559c0",
   "metadata": {
    "execution": {
     "iopub.execute_input": "2023-03-17T16:33:11.355940Z",
     "iopub.status.busy": "2023-03-17T16:33:11.354843Z",
     "iopub.status.idle": "2023-03-17T16:33:11.369673Z",
     "shell.execute_reply": "2023-03-17T16:33:11.368355Z"
    },
    "papermill": {
     "duration": 0.044429,
     "end_time": "2023-03-17T16:33:11.372599",
     "exception": false,
     "start_time": "2023-03-17T16:33:11.328170",
     "status": "completed"
    },
    "tags": []
   },
   "outputs": [],
   "source": [
    "# Split data into subsets\n",
    "\n",
    "# Train and Val/Test splits\n",
    "train_data, val_test_data = train_test_split(dataframe,\n",
    "                                              test_size=0.3,\n",
    "                                             shuffle=True, \n",
    "                                             random_state=112) \n",
    "# Validation and Test splits\n",
    "val_data, test_data = train_test_split(val_test_data,\n",
    "                                       test_size=0.5,\n",
    "                                       random_state=112) # Same seed to avoid mixing the data "
   ]
  },
  {
   "cell_type": "code",
   "execution_count": 14,
   "id": "2cb0970e",
   "metadata": {
    "execution": {
     "iopub.execute_input": "2023-03-17T16:33:11.423926Z",
     "iopub.status.busy": "2023-03-17T16:33:11.423108Z",
     "iopub.status.idle": "2023-03-17T16:33:11.433866Z",
     "shell.execute_reply": "2023-03-17T16:33:11.431982Z"
    },
    "papermill": {
     "duration": 0.039789,
     "end_time": "2023-03-17T16:33:11.437000",
     "exception": false,
     "start_time": "2023-03-17T16:33:11.397211",
     "status": "completed"
    },
    "tags": []
   },
   "outputs": [
    {
     "name": "stdout",
     "output_type": "stream",
     "text": [
      "\n",
      "Total train data: 19583\n",
      "\n",
      "Train data (each label):\n",
      " 0    9841\n",
      "1    9742\n",
      "Name: label, dtype: int64\n",
      "\n",
      "******************************\n",
      "Total validation data: 4197\n",
      "\n",
      "Validation data (each label):\n",
      " 0    2172\n",
      "1    2025\n",
      "Name: label, dtype: int64\n",
      "\n",
      "******************************\n",
      "Total test data: 4197\n",
      "\n",
      "Test data (each label):\n",
      " 0    2126\n",
      "1    2071\n",
      "Name: label, dtype: int64\n",
      "\n",
      "\n"
     ]
    }
   ],
   "source": [
    "# Amount of data\n",
    "\n",
    "print(f\"\"\"\n",
    "Total train data: {len(train_data)}\\n\n",
    "Train data (each label):\\n {train_data[\"label\"].value_counts()}\\n\n",
    "{\"*\"*30}\n",
    "Total validation data: {len(val_data)}\\n\n",
    "Validation data (each label):\\n {val_data[\"label\"].value_counts()}\\n\n",
    "{\"*\"*30}\n",
    "Total test data: {len(test_data)}\\n\n",
    "Test data (each label):\\n {test_data[\"label\"].value_counts()}\\n\n",
    "\"\"\")"
   ]
  },
  {
   "cell_type": "markdown",
   "id": "ca6a7771",
   "metadata": {
    "papermill": {
     "duration": 0.026412,
     "end_time": "2023-03-17T16:33:11.488019",
     "exception": false,
     "start_time": "2023-03-17T16:33:11.461607",
     "status": "completed"
    },
    "tags": []
   },
   "source": [
    "## Split into features and labels"
   ]
  },
  {
   "cell_type": "code",
   "execution_count": 15,
   "id": "f54405dc",
   "metadata": {
    "execution": {
     "iopub.execute_input": "2023-03-17T16:33:11.539518Z",
     "iopub.status.busy": "2023-03-17T16:33:11.538663Z",
     "iopub.status.idle": "2023-03-17T16:33:11.546451Z",
     "shell.execute_reply": "2023-03-17T16:33:11.545294Z"
    },
    "papermill": {
     "duration": 0.036287,
     "end_time": "2023-03-17T16:33:11.549302",
     "exception": false,
     "start_time": "2023-03-17T16:33:11.513015",
     "status": "completed"
    },
    "tags": []
   },
   "outputs": [],
   "source": [
    "# Train splits\n",
    "train_sentences = train_data[\"text\"].to_list()\n",
    "train_labels = train_data[\"label\"].to_numpy()\n",
    "\n",
    "# Val splits\n",
    "val_sentences = val_data[\"text\"].to_list()\n",
    "val_labels = val_data[\"label\"].to_numpy()\n",
    "\n",
    "# Test splits\n",
    "test_sentences = test_data[\"text\"].to_list()\n",
    "test_labels = test_data[\"label\"].to_numpy()"
   ]
  },
  {
   "cell_type": "code",
   "execution_count": 16,
   "id": "8ef9dee0",
   "metadata": {
    "execution": {
     "iopub.execute_input": "2023-03-17T16:33:11.602875Z",
     "iopub.status.busy": "2023-03-17T16:33:11.602097Z",
     "iopub.status.idle": "2023-03-17T16:33:11.609140Z",
     "shell.execute_reply": "2023-03-17T16:33:11.607828Z"
    },
    "papermill": {
     "duration": 0.03678,
     "end_time": "2023-03-17T16:33:11.611695",
     "exception": false,
     "start_time": "2023-03-17T16:33:11.574915",
     "status": "completed"
    },
    "tags": []
   },
   "outputs": [
    {
     "name": "stdout",
     "output_type": "stream",
     "text": [
      "Train samples: 19583 19583\n",
      "Val samples: 4197 4197\n",
      "Test samples: 4197 4197\n"
     ]
    }
   ],
   "source": [
    "print(\"Train samples:\",len(train_sentences), len(train_labels))\n",
    "print(\"Val samples:\", len(val_sentences), len(val_labels))\n",
    "print(\"Test samples:\", len(test_sentences), len(test_labels))"
   ]
  },
  {
   "cell_type": "markdown",
   "id": "567261e3",
   "metadata": {
    "papermill": {
     "duration": 0.02402,
     "end_time": "2023-03-17T16:33:11.659829",
     "exception": false,
     "start_time": "2023-03-17T16:33:11.635809",
     "status": "completed"
    },
    "tags": []
   },
   "source": [
    "# Data visualizations"
   ]
  },
  {
   "cell_type": "code",
   "execution_count": 17,
   "id": "3ac129df",
   "metadata": {
    "execution": {
     "iopub.execute_input": "2023-03-17T16:33:11.709432Z",
     "iopub.status.busy": "2023-03-17T16:33:11.708979Z",
     "iopub.status.idle": "2023-03-17T16:33:11.716284Z",
     "shell.execute_reply": "2023-03-17T16:33:11.715250Z"
    },
    "papermill": {
     "duration": 0.034942,
     "end_time": "2023-03-17T16:33:11.718584",
     "exception": false,
     "start_time": "2023-03-17T16:33:11.683642",
     "status": "completed"
    },
    "tags": []
   },
   "outputs": [
    {
     "data": {
      "text/plain": [
       "(pandas.core.frame.DataFrame, list, numpy.ndarray)"
      ]
     },
     "execution_count": 17,
     "metadata": {},
     "output_type": "execute_result"
    }
   ],
   "source": [
    "# Datatypes\n",
    "type(train_data), type(train_sentences), type(train_labels)"
   ]
  },
  {
   "cell_type": "code",
   "execution_count": 18,
   "id": "67f5691a",
   "metadata": {
    "execution": {
     "iopub.execute_input": "2023-03-17T16:33:11.769198Z",
     "iopub.status.busy": "2023-03-17T16:33:11.768742Z",
     "iopub.status.idle": "2023-03-17T16:33:11.778276Z",
     "shell.execute_reply": "2023-03-17T16:33:11.775931Z"
    },
    "papermill": {
     "duration": 0.038317,
     "end_time": "2023-03-17T16:33:11.781353",
     "exception": false,
     "start_time": "2023-03-17T16:33:11.743036",
     "status": "completed"
    },
    "tags": []
   },
   "outputs": [
    {
     "name": "stdout",
     "output_type": "stream",
     "text": [
      "\n",
      "Texto:\n",
      "\n",
      " somy last post  months ago unsure exact date know around  months and last im going unsubbing here maybe ill resub later date im definitely  ill come back help people way people sub helped me much changed generally feel better im sure why something changed know what something has feel slightly better now actually feel okay know im woods yet im getting there know theres plenty obstacles actually looking forward encountering them im starting relish challenge like said idea changed still go work am come home sit room watching tv phone want say thank everyone helped even tried help difficult person help know that ive always thought everything alone real man never asks help wrong matter   matter male female trans idea are matter hard exterior soft need help sometimes cant everything ourselves thats okay now im leaving sub thank again everyone helped least tried appreciate it tldr im feeling better leaving sub\n",
      "\n",
      "Etiqueta:  1\n",
      "**************************************************\n",
      "\n",
      "Texto:\n",
      "\n",
      " people girlfriend one either\n",
      "\n",
      "Etiqueta:  0\n",
      "**************************************************\n",
      "\n",
      "Texto:\n",
      "\n",
      " fuckfuckfuckfuckfuckduck said shit instead ship class fuckfuckfuckfuckfuckfuckfuck\n",
      "\n",
      "Etiqueta:  0\n",
      "**************************************************\n",
      "\n",
      "Texto:\n",
      "\n",
      " pain life know ache know keep awake tonight fills dread hate braces tightened\n",
      "\n",
      "Etiqueta:  0\n",
      "**************************************************\n",
      "\n",
      "Texto:\n",
      "\n",
      " im ready end life today get home schoolive goal oriented now ive always aimed perfection cant reach it cant reach goals never even get close ive always striven perfect grades overwhelming point work ass stress get college work ass stress get god job work ass stress die way going be id rather reach end later ive lost interest nearly everything ive pushed away friends ive got nothing left besides finish school day exhausted options think last thing left do ive done everything bucketlist secretly hoping would make see fun things ill miss feel worst bothers many people death effect im popular person know friends blame family split going let many people sorry\n",
      "\n",
      "Etiqueta:  1\n",
      "**************************************************\n"
     ]
    }
   ],
   "source": [
    "# Some random samples\n",
    "for i in range(5):\n",
    "    rand_index = random.choice(train_data.axes[0])\n",
    "    print(\"\\nTexto:\\n\\n\",train_data[\"text\"][rand_index])\n",
    "    print(\"\\nEtiqueta: \",train_data[\"label\"][rand_index])\n",
    "    print(\"*\"*50)"
   ]
  },
  {
   "cell_type": "code",
   "execution_count": 19,
   "id": "c0e5c37e",
   "metadata": {
    "execution": {
     "iopub.execute_input": "2023-03-17T16:33:11.831796Z",
     "iopub.status.busy": "2023-03-17T16:33:11.831386Z",
     "iopub.status.idle": "2023-03-17T16:33:11.836508Z",
     "shell.execute_reply": "2023-03-17T16:33:11.835515Z"
    },
    "papermill": {
     "duration": 0.033275,
     "end_time": "2023-03-17T16:33:11.838837",
     "exception": false,
     "start_time": "2023-03-17T16:33:11.805562",
     "status": "completed"
    },
    "tags": []
   },
   "outputs": [
    {
     "name": "stdout",
     "output_type": "stream",
     "text": [
      "Random sentence:\n",
      "\n",
      " repost think book ideas want know one interesting rule strong superhumans rule entire cities oppressive caste system built protagonist try live normal life changes run superhuman police changes forever twoman aliens evolved created system earth ecosystems merged created hellscape thousands years passed protagonists meet explore two different worlds mean true meaning humanity antarctic kingdom evolved penguins secret kingdom inside antarctica operated separate humanity millions years however antarctic expedition goes wrong human protagonists see actions race impacted others see scars cant heal ferryman eternal river runs parallel universe links locations universe parallel one used method transportation never ends story follow ferryman travels river exploration fear man vs nature overlay quantum strain man trying fix greatest mistake via time travel accidentally creates bunch time duplicates many causing tear form fabric space time story follows one echoes learning seeking save world himself exploring themes loss hubris identity  story science experiment essence life goes completely wrong actual personifications periodic elements created begins chain reaction personifications substances created story follows personifications hydrogen hellium explore brotherly bond life really means\n"
     ]
    }
   ],
   "source": [
    "# Random sentence\n",
    "print(\"Random sentence:\\n\\n\", random.choice(train_sentences))"
   ]
  },
  {
   "cell_type": "code",
   "execution_count": 20,
   "id": "c909eef5",
   "metadata": {
    "execution": {
     "iopub.execute_input": "2023-03-17T16:33:11.889386Z",
     "iopub.status.busy": "2023-03-17T16:33:11.888946Z",
     "iopub.status.idle": "2023-03-17T16:33:11.896971Z",
     "shell.execute_reply": "2023-03-17T16:33:11.895638Z"
    },
    "papermill": {
     "duration": 0.036515,
     "end_time": "2023-03-17T16:33:11.899506",
     "exception": false,
     "start_time": "2023-03-17T16:33:11.862991",
     "status": "completed"
    },
    "tags": []
   },
   "outputs": [
    {
     "data": {
      "text/plain": [
       "array([0, 0, 0, 0, 0, 0, 0, 1, 0, 1])"
      ]
     },
     "execution_count": 20,
     "metadata": {},
     "output_type": "execute_result"
    }
   ],
   "source": [
    "# Some labels\n",
    "train_labels[:10]"
   ]
  },
  {
   "cell_type": "markdown",
   "id": "e66fce1c",
   "metadata": {
    "papermill": {
     "duration": 0.023883,
     "end_time": "2023-03-17T16:33:11.948682",
     "exception": false,
     "start_time": "2023-03-17T16:33:11.924799",
     "status": "completed"
    },
    "tags": []
   },
   "source": [
    "# Baseline"
   ]
  },
  {
   "cell_type": "markdown",
   "id": "343774bb",
   "metadata": {
    "papermill": {
     "duration": 0.02469,
     "end_time": "2023-03-17T16:33:11.997741",
     "exception": false,
     "start_time": "2023-03-17T16:33:11.973051",
     "status": "completed"
    },
    "tags": []
   },
   "source": [
    "Using MultinomialNB algorithm and tf-idf as vectorizer."
   ]
  },
  {
   "cell_type": "code",
   "execution_count": 21,
   "id": "75efe8b3",
   "metadata": {
    "execution": {
     "iopub.execute_input": "2023-03-17T16:33:12.048441Z",
     "iopub.status.busy": "2023-03-17T16:33:12.048009Z",
     "iopub.status.idle": "2023-03-17T16:33:13.758963Z",
     "shell.execute_reply": "2023-03-17T16:33:13.757743Z"
    },
    "papermill": {
     "duration": 1.739481,
     "end_time": "2023-03-17T16:33:13.761807",
     "exception": false,
     "start_time": "2023-03-17T16:33:12.022326",
     "status": "completed"
    },
    "tags": []
   },
   "outputs": [
    {
     "name": "stdout",
     "output_type": "stream",
     "text": [
      "Baseline accuracy score:\n"
     ]
    },
    {
     "data": {
      "text/plain": [
       "0.8389325708839648"
      ]
     },
     "execution_count": 21,
     "metadata": {},
     "output_type": "execute_result"
    }
   ],
   "source": [
    "# Scikit-learn pipeline (requires tuples (name, algorithm))\n",
    "baseline = pipeline.Pipeline([\n",
    "    (\"tf-idf\", TfidfVectorizer()),\n",
    "    (\"multinomial\", MultinomialNB())\n",
    "])\n",
    "\n",
    "# Fitting pipeline\n",
    "baseline.fit(train_sentences, train_labels);\n",
    "\n",
    "# Checking validation score\n",
    "print(\"Baseline accuracy score:\")\n",
    "baseline.score(val_sentences, val_labels)"
   ]
  },
  {
   "cell_type": "markdown",
   "id": "26038b57",
   "metadata": {
    "papermill": {
     "duration": 0.025062,
     "end_time": "2023-03-17T16:33:13.811887",
     "exception": false,
     "start_time": "2023-03-17T16:33:13.786825",
     "status": "completed"
    },
    "tags": []
   },
   "source": [
    "## Results Baseline"
   ]
  },
  {
   "cell_type": "code",
   "execution_count": 22,
   "id": "3d7498c4",
   "metadata": {
    "execution": {
     "iopub.execute_input": "2023-03-17T16:33:13.863512Z",
     "iopub.status.busy": "2023-03-17T16:33:13.863089Z",
     "iopub.status.idle": "2023-03-17T16:33:13.870082Z",
     "shell.execute_reply": "2023-03-17T16:33:13.868795Z"
    },
    "papermill": {
     "duration": 0.036071,
     "end_time": "2023-03-17T16:33:13.872465",
     "exception": false,
     "start_time": "2023-03-17T16:33:13.836394",
     "status": "completed"
    },
    "tags": []
   },
   "outputs": [],
   "source": [
    "# Function to calculate accuracy, precision, recall and f1-score\n",
    "def calculate_metrics(y_true, y_pred):\n",
    "    \"\"\"\n",
    "    Args:\n",
    "    ----\n",
    "    y_pred - Pred labels\n",
    "    y_true - True labels\n",
    "    \n",
    "    Return:\n",
    "    ----\n",
    "    Return a dictionary with the model metrics of Accuracy, Precision, Recall and F1-score.\n",
    "    \"\"\"\n",
    "    accuracy = accuracy_score(y_true, y_pred)\n",
    "    precision, recall, f1, _ = precision_recall_fscore_support(y_true, y_pred, average=\"weighted\")\n",
    "\n",
    "    return {\"accuracy\":accuracy,\n",
    "           \"precision\":precision,\n",
    "           \"f1-score\":f1,\n",
    "           \"recall\":recall}"
   ]
  },
  {
   "cell_type": "code",
   "execution_count": 23,
   "id": "1f0406ee",
   "metadata": {
    "execution": {
     "iopub.execute_input": "2023-03-17T16:33:13.926252Z",
     "iopub.status.busy": "2023-03-17T16:33:13.925825Z",
     "iopub.status.idle": "2023-03-17T16:33:14.211018Z",
     "shell.execute_reply": "2023-03-17T16:33:14.209717Z"
    },
    "papermill": {
     "duration": 0.314346,
     "end_time": "2023-03-17T16:33:14.213689",
     "exception": false,
     "start_time": "2023-03-17T16:33:13.899343",
     "status": "completed"
    },
    "tags": []
   },
   "outputs": [
    {
     "data": {
      "text/plain": [
       "array([1, 0, 1, 0, 1, 1, 0, 0, 0, 1])"
      ]
     },
     "execution_count": 23,
     "metadata": {},
     "output_type": "execute_result"
    }
   ],
   "source": [
    "# Get predicted labels\n",
    "baseline_preds = baseline.predict(val_sentences)\n",
    "baseline_preds[:10]"
   ]
  },
  {
   "cell_type": "code",
   "execution_count": 24,
   "id": "12d26a8a",
   "metadata": {
    "execution": {
     "iopub.execute_input": "2023-03-17T16:33:14.264698Z",
     "iopub.status.busy": "2023-03-17T16:33:14.264242Z",
     "iopub.status.idle": "2023-03-17T16:33:14.275375Z",
     "shell.execute_reply": "2023-03-17T16:33:14.274237Z"
    },
    "papermill": {
     "duration": 0.039416,
     "end_time": "2023-03-17T16:33:14.277729",
     "exception": false,
     "start_time": "2023-03-17T16:33:14.238313",
     "status": "completed"
    },
    "tags": []
   },
   "outputs": [
    {
     "data": {
      "text/plain": [
       "{'accuracy': 0.8389325708839648,\n",
       " 'precision': 0.8711056075714702,\n",
       " 'f1-score': 0.8363383564006696,\n",
       " 'recall': 0.8389325708839648}"
      ]
     },
     "execution_count": 24,
     "metadata": {},
     "output_type": "execute_result"
    }
   ],
   "source": [
    "# Get final results on validation data\n",
    "baseline_results = calculate_metrics(val_labels, baseline_preds)\n",
    "baseline_results"
   ]
  },
  {
   "cell_type": "code",
   "execution_count": 25,
   "id": "c6ae2632",
   "metadata": {
    "execution": {
     "iopub.execute_input": "2023-03-17T16:33:14.329131Z",
     "iopub.status.busy": "2023-03-17T16:33:14.328421Z",
     "iopub.status.idle": "2023-03-17T16:33:14.342661Z",
     "shell.execute_reply": "2023-03-17T16:33:14.341496Z"
    },
    "papermill": {
     "duration": 0.042718,
     "end_time": "2023-03-17T16:33:14.345084",
     "exception": false,
     "start_time": "2023-03-17T16:33:14.302366",
     "status": "completed"
    },
    "tags": []
   },
   "outputs": [
    {
     "data": {
      "text/html": [
       "<div>\n",
       "<style scoped>\n",
       "    .dataframe tbody tr th:only-of-type {\n",
       "        vertical-align: middle;\n",
       "    }\n",
       "\n",
       "    .dataframe tbody tr th {\n",
       "        vertical-align: top;\n",
       "    }\n",
       "\n",
       "    .dataframe thead th {\n",
       "        text-align: right;\n",
       "    }\n",
       "</style>\n",
       "<table border=\"1\" class=\"dataframe\">\n",
       "  <thead>\n",
       "    <tr style=\"text-align: right;\">\n",
       "      <th></th>\n",
       "      <th>accuracy</th>\n",
       "      <th>precision</th>\n",
       "      <th>f1-score</th>\n",
       "      <th>recall</th>\n",
       "    </tr>\n",
       "  </thead>\n",
       "  <tbody>\n",
       "    <tr>\n",
       "      <th>baseline_scores</th>\n",
       "      <td>0.838933</td>\n",
       "      <td>0.871106</td>\n",
       "      <td>0.836338</td>\n",
       "      <td>0.838933</td>\n",
       "    </tr>\n",
       "  </tbody>\n",
       "</table>\n",
       "</div>"
      ],
      "text/plain": [
       "                 accuracy  precision  f1-score    recall\n",
       "baseline_scores  0.838933   0.871106  0.836338  0.838933"
      ]
     },
     "execution_count": 25,
     "metadata": {},
     "output_type": "execute_result"
    }
   ],
   "source": [
    "# As a dataframe\n",
    "pd.DataFrame(baseline_results, index=[\"baseline_scores\"])"
   ]
  },
  {
   "cell_type": "markdown",
   "id": "05743b6d",
   "metadata": {
    "papermill": {
     "duration": 0.025307,
     "end_time": "2023-03-17T16:33:14.395524",
     "exception": false,
     "start_time": "2023-03-17T16:33:14.370217",
     "status": "completed"
    },
    "tags": []
   },
   "source": [
    "# Text vectorizer"
   ]
  },
  {
   "cell_type": "markdown",
   "id": "2f15fc3a",
   "metadata": {
    "papermill": {
     "duration": 0.02451,
     "end_time": "2023-03-17T16:33:14.444905",
     "exception": false,
     "start_time": "2023-03-17T16:33:14.420395",
     "status": "completed"
    },
    "tags": []
   },
   "source": [
    "## Exploration for vectorizer\n"
   ]
  },
  {
   "cell_type": "code",
   "execution_count": 26,
   "id": "eeadf70e",
   "metadata": {
    "execution": {
     "iopub.execute_input": "2023-03-17T16:33:14.497349Z",
     "iopub.status.busy": "2023-03-17T16:33:14.496918Z",
     "iopub.status.idle": "2023-03-17T16:33:14.591442Z",
     "shell.execute_reply": "2023-03-17T16:33:14.590015Z"
    },
    "papermill": {
     "duration": 0.124108,
     "end_time": "2023-03-17T16:33:14.594028",
     "exception": false,
     "start_time": "2023-03-17T16:33:14.469920",
     "status": "completed"
    },
    "tags": []
   },
   "outputs": [
    {
     "name": "stdout",
     "output_type": "stream",
     "text": [
      "[120, 4, 19, 10, 9, 19, 20, 44, 15, 67]\n"
     ]
    }
   ],
   "source": [
    "# Get a list of our sentences lengths\n",
    "sentence_len = []\n",
    "for sentence in train_data[\"text\"]:\n",
    "    sentence_len.append(len(sentence.split()))\n",
    "print(sentence_len[:10])"
   ]
  },
  {
   "cell_type": "code",
   "execution_count": 27,
   "id": "4dc9cc95",
   "metadata": {
    "execution": {
     "iopub.execute_input": "2023-03-17T16:33:14.647237Z",
     "iopub.status.busy": "2023-03-17T16:33:14.646743Z",
     "iopub.status.idle": "2023-03-17T16:33:14.656286Z",
     "shell.execute_reply": "2023-03-17T16:33:14.655346Z"
    },
    "papermill": {
     "duration": 0.038652,
     "end_time": "2023-03-17T16:33:14.658644",
     "exception": false,
     "start_time": "2023-03-17T16:33:14.619992",
     "status": "completed"
    },
    "tags": []
   },
   "outputs": [
    {
     "data": {
      "text/plain": [
       "71"
      ]
     },
     "execution_count": 27,
     "metadata": {},
     "output_type": "execute_result"
    }
   ],
   "source": [
    "# Average lengths\n",
    "int(np.round(np.sum(sentence_len)/len(train_data)))"
   ]
  },
  {
   "cell_type": "markdown",
   "id": "4c2b2ec4",
   "metadata": {
    "papermill": {
     "duration": 0.025308,
     "end_time": "2023-03-17T16:33:14.709061",
     "exception": false,
     "start_time": "2023-03-17T16:33:14.683753",
     "status": "completed"
    },
    "tags": []
   },
   "source": [
    "Is this a good representation?"
   ]
  },
  {
   "cell_type": "code",
   "execution_count": 28,
   "id": "8739c5a2",
   "metadata": {
    "execution": {
     "iopub.execute_input": "2023-03-17T16:33:14.762441Z",
     "iopub.status.busy": "2023-03-17T16:33:14.761263Z",
     "iopub.status.idle": "2023-03-17T16:33:15.108290Z",
     "shell.execute_reply": "2023-03-17T16:33:15.107318Z"
    },
    "papermill": {
     "duration": 0.376997,
     "end_time": "2023-03-17T16:33:15.111358",
     "exception": false,
     "start_time": "2023-03-17T16:33:14.734361",
     "status": "completed"
    },
    "tags": []
   },
   "outputs": [
    {
     "data": {
      "image/png": "[encoded data removed]",
      "text/plain": [
       "<Figure size 600x600 with 1 Axes>"
      ]
     },
     "metadata": {},
     "output_type": "display_data"
    }
   ],
   "source": [
    "# Checking lengths distributions\n",
    "plt.figure(figsize=(6,6))\n",
    "plt.title(\"Sentences lengths distributions\", fontsize=20)\n",
    "plt.hist(sentence_len, bins=10)\n",
    "plt.xlabel(\"Sentence lengths\", fontsize=15)\n",
    "plt.ylabel(\"Number of sentences\", fontsize=15);"
   ]
  },
  {
   "cell_type": "markdown",
   "id": "690efb5b",
   "metadata": {
    "papermill": {
     "duration": 0.029602,
     "end_time": "2023-03-17T16:33:15.173348",
     "exception": false,
     "start_time": "2023-03-17T16:33:15.143746",
     "status": "completed"
    },
    "tags": []
   },
   "source": [
    "The majority of the sentences are between 0 and 500. Let's zoom in."
   ]
  },
  {
   "cell_type": "code",
   "execution_count": 29,
   "id": "2b0159ad",
   "metadata": {
    "execution": {
     "iopub.execute_input": "2023-03-17T16:33:15.227856Z",
     "iopub.status.busy": "2023-03-17T16:33:15.227447Z",
     "iopub.status.idle": "2023-03-17T16:33:15.745318Z",
     "shell.execute_reply": "2023-03-17T16:33:15.743976Z"
    },
    "papermill": {
     "duration": 0.548929,
     "end_time": "2023-03-17T16:33:15.748814",
     "exception": false,
     "start_time": "2023-03-17T16:33:15.199885",
     "status": "completed"
    },
    "tags": []
   },
   "outputs": [
    {
     "data": {
      "image/png": "[encoded data removed]",
      "text/plain": [
       "<Figure size 600x600 with 1 Axes>"
      ]
     },
     "metadata": {},
     "output_type": "display_data"
    }
   ],
   "source": [
    "# Zoom in distributions\n",
    "plt.figure(figsize=(6,6))\n",
    "plt.title(\"Sentences lengths distributions (zoom in)\", fontsize=17)\n",
    "plt.hist(sentence_len, bins=10, range=(0, 500))\n",
    "plt.xlabel(\"Sentence lengths\", fontsize=15)\n",
    "plt.ylabel(\"Number of sentences\", fontsize=15);"
   ]
  },
  {
   "cell_type": "code",
   "execution_count": 30,
   "id": "e140713e",
   "metadata": {
    "execution": {
     "iopub.execute_input": "2023-03-17T16:33:15.805261Z",
     "iopub.status.busy": "2023-03-17T16:33:15.804872Z",
     "iopub.status.idle": "2023-03-17T16:33:15.831167Z",
     "shell.execute_reply": "2023-03-17T16:33:15.829952Z"
    },
    "papermill": {
     "duration": 0.057629,
     "end_time": "2023-03-17T16:33:15.833930",
     "exception": false,
     "start_time": "2023-03-17T16:33:15.776301",
     "status": "completed"
    },
    "tags": []
   },
   "outputs": [],
   "source": [
    "percentiles = [0, 5, 10, 25, 50, 75, 90, 95, 99, 100]\n",
    "percentiles_dict = {}\n",
    "for percentil in percentiles:\n",
    "    percentiles_dict[str(percentil) + \"th percentil\"] = np.percentile(sentence_len, percentil)"
   ]
  },
  {
   "cell_type": "code",
   "execution_count": 31,
   "id": "eb9812a3",
   "metadata": {
    "execution": {
     "iopub.execute_input": "2023-03-17T16:33:15.889878Z",
     "iopub.status.busy": "2023-03-17T16:33:15.889420Z",
     "iopub.status.idle": "2023-03-17T16:33:15.902921Z",
     "shell.execute_reply": "2023-03-17T16:33:15.901558Z"
    },
    "papermill": {
     "duration": 0.043967,
     "end_time": "2023-03-17T16:33:15.905446",
     "exception": false,
     "start_time": "2023-03-17T16:33:15.861479",
     "status": "completed"
    },
    "tags": []
   },
   "outputs": [
    {
     "data": {
      "text/html": [
       "<div>\n",
       "<style scoped>\n",
       "    .dataframe tbody tr th:only-of-type {\n",
       "        vertical-align: middle;\n",
       "    }\n",
       "\n",
       "    .dataframe tbody tr th {\n",
       "        vertical-align: top;\n",
       "    }\n",
       "\n",
       "    .dataframe thead th {\n",
       "        text-align: right;\n",
       "    }\n",
       "</style>\n",
       "<table border=\"1\" class=\"dataframe\">\n",
       "  <thead>\n",
       "    <tr style=\"text-align: right;\">\n",
       "      <th></th>\n",
       "      <th>Percentiles</th>\n",
       "    </tr>\n",
       "  </thead>\n",
       "  <tbody>\n",
       "    <tr>\n",
       "      <th>0th percentil</th>\n",
       "      <td>0.00</td>\n",
       "    </tr>\n",
       "    <tr>\n",
       "      <th>5th percentil</th>\n",
       "      <td>7.00</td>\n",
       "    </tr>\n",
       "    <tr>\n",
       "      <th>10th percentil</th>\n",
       "      <td>9.00</td>\n",
       "    </tr>\n",
       "    <tr>\n",
       "      <th>25th percentil</th>\n",
       "      <td>16.00</td>\n",
       "    </tr>\n",
       "    <tr>\n",
       "      <th>50th percentil</th>\n",
       "      <td>38.00</td>\n",
       "    </tr>\n",
       "    <tr>\n",
       "      <th>75th percentil</th>\n",
       "      <td>87.00</td>\n",
       "    </tr>\n",
       "    <tr>\n",
       "      <th>90th percentil</th>\n",
       "      <td>170.00</td>\n",
       "    </tr>\n",
       "    <tr>\n",
       "      <th>95th percentil</th>\n",
       "      <td>240.00</td>\n",
       "    </tr>\n",
       "    <tr>\n",
       "      <th>99th percentil</th>\n",
       "      <td>472.54</td>\n",
       "    </tr>\n",
       "    <tr>\n",
       "      <th>100th percentil</th>\n",
       "      <td>2670.00</td>\n",
       "    </tr>\n",
       "  </tbody>\n",
       "</table>\n",
       "</div>"
      ],
      "text/plain": [
       "                 Percentiles\n",
       "0th percentil           0.00\n",
       "5th percentil           7.00\n",
       "10th percentil          9.00\n",
       "25th percentil         16.00\n",
       "50th percentil         38.00\n",
       "75th percentil         87.00\n",
       "90th percentil        170.00\n",
       "95th percentil        240.00\n",
       "99th percentil        472.54\n",
       "100th percentil      2670.00"
      ]
     },
     "execution_count": 31,
     "metadata": {},
     "output_type": "execute_result"
    }
   ],
   "source": [
    "pd.DataFrame(percentiles_dict, index=[\"Percentiles\"]).T"
   ]
  },
  {
   "cell_type": "markdown",
   "id": "f3c869a9",
   "metadata": {
    "papermill": {
     "duration": 0.027417,
     "end_time": "2023-03-17T16:33:15.960790",
     "exception": false,
     "start_time": "2023-03-17T16:33:15.933373",
     "status": "completed"
    },
    "tags": []
   },
   "source": [
    "I'm going to choose a maximum sentence length value of 80 since 75% of the sentences have a length of 87 or less.\n",
    "\n",
    "However, we could also try selecting other values, such as 170 or even 240, which would cover most of the sentence lengths.\n",
    "\n",
    "We can also observe that phrases with a length greater than 500 represent less than 1% of the total, indicating that phrases exceeding thousands are clear outliers.\n",
    "\n",
    "When we choose a maximum sentence length, what we're doing is filling the sentences that are shorter than that length with zeros, while truncating the sentences that are longer to make them fit. If we were to select the length of the outliers as the maximum value, we would end up with a dataset mostly composed of zeros, as shown below."
   ]
  },
  {
   "cell_type": "code",
   "execution_count": 32,
   "id": "0903d56b",
   "metadata": {
    "execution": {
     "iopub.execute_input": "2023-03-17T16:33:16.019574Z",
     "iopub.status.busy": "2023-03-17T16:33:16.019189Z",
     "iopub.status.idle": "2023-03-17T16:33:16.029700Z",
     "shell.execute_reply": "2023-03-17T16:33:16.027966Z"
    },
    "papermill": {
     "duration": 0.042007,
     "end_time": "2023-03-17T16:33:16.032804",
     "exception": false,
     "start_time": "2023-03-17T16:33:15.990797",
     "status": "completed"
    },
    "tags": []
   },
   "outputs": [
    {
     "name": "stdout",
     "output_type": "stream",
     "text": [
      "Total words: 1399621\n",
      "Total elements using 80 as maximum length: 1566640\n",
      "Total elements using the maximum length: 52286610\n",
      "Proportion of zeros (max length): 97.3%\n"
     ]
    }
   ],
   "source": [
    "# What happens if we take the highest value?\n",
    "total_words = np.sum(sentence_len)\n",
    "total_sentences = len(sentence_len)\n",
    "with_80 = np.multiply(total_sentences, 80)\n",
    "with_max_len = np.multiply(total_sentences, 2670)\n",
    "\n",
    "print(\"Total words:\", total_words)\n",
    "print(\"Total elements using 80 as maximum length:\", with_80)\n",
    "print(\"Total elements using the maximum length:\", with_max_len)\n",
    "print(f\"Proportion of zeros (max length): {np.divide((with_max_len - total_words), with_max_len) * 100:.3}%\")"
   ]
  },
  {
   "cell_type": "markdown",
   "id": "f9c308af",
   "metadata": {
    "papermill": {
     "duration": 0.027273,
     "end_time": "2023-03-17T16:33:16.087180",
     "exception": false,
     "start_time": "2023-03-17T16:33:16.059907",
     "status": "completed"
    },
    "tags": []
   },
   "source": [
    "## Creating vectorizer layer\n"
   ]
  },
  {
   "cell_type": "code",
   "execution_count": 81,
   "id": "53f70d17",
   "metadata": {
    "execution": {
     "iopub.execute_input": "2023-03-17T16:33:16.141840Z",
     "iopub.status.busy": "2023-03-17T16:33:16.141404Z",
     "iopub.status.idle": "2023-03-17T16:33:16.268909Z",
     "shell.execute_reply": "2023-03-17T16:33:16.267530Z"
    },
    "papermill": {
     "duration": 0.158332,
     "end_time": "2023-03-17T16:33:16.271955",
     "exception": false,
     "start_time": "2023-03-17T16:33:16.113623",
     "status": "completed"
    },
    "tags": []
   },
   "outputs": [],
   "source": [
    "# Vectorizer layer\n",
    "vocab_size = 10000 # Number of words for our vocabulary\n",
    "max_sentence_length = 80 # Max sentence length\n",
    "\n",
    "text_vectorizer = TextVectorization(max_tokens=vocab_size,\n",
    "                                    output_sequence_length=max_sentence_length)"
   ]
  },
  {
   "cell_type": "code",
   "execution_count": 34,
   "id": "c997726b",
   "metadata": {
    "execution": {
     "iopub.execute_input": "2023-03-17T16:33:16.327120Z",
     "iopub.status.busy": "2023-03-17T16:33:16.326719Z",
     "iopub.status.idle": "2023-03-17T16:33:20.349567Z",
     "shell.execute_reply": "2023-03-17T16:33:20.348222Z"
    },
    "papermill": {
     "duration": 4.053727,
     "end_time": "2023-03-17T16:33:20.352683",
     "exception": false,
     "start_time": "2023-03-17T16:33:16.298956",
     "status": "completed"
    },
    "tags": []
   },
   "outputs": [],
   "source": [
    "# Adapting vocabulary to our training sentences\n",
    "text_vectorizer.adapt(train_sentences)"
   ]
  },
  {
   "cell_type": "code",
   "execution_count": 35,
   "id": "46d2912a",
   "metadata": {
    "execution": {
     "iopub.execute_input": "2023-03-17T16:33:20.408616Z",
     "iopub.status.busy": "2023-03-17T16:33:20.408092Z",
     "iopub.status.idle": "2023-03-17T16:33:20.416149Z",
     "shell.execute_reply": "2023-03-17T16:33:20.414894Z"
    },
    "papermill": {
     "duration": 0.038933,
     "end_time": "2023-03-17T16:33:20.418642",
     "exception": false,
     "start_time": "2023-03-17T16:33:20.379709",
     "status": "completed"
    },
    "tags": []
   },
   "outputs": [
    {
     "data": {
      "text/plain": [
       "{'name': 'text_vectorization',\n",
       " 'trainable': True,\n",
       " 'batch_input_shape': (None,),\n",
       " 'dtype': 'string',\n",
       " 'max_tokens': 10000,\n",
       " 'standardize': 'lower_and_strip_punctuation',\n",
       " 'split': 'whitespace',\n",
       " 'ngrams': None,\n",
       " 'output_mode': 'int',\n",
       " 'output_sequence_length': 80,\n",
       " 'pad_to_max_tokens': False,\n",
       " 'sparse': False,\n",
       " 'ragged': False,\n",
       " 'vocabulary': None,\n",
       " 'idf_weights': None}"
      ]
     },
     "execution_count": 35,
     "metadata": {},
     "output_type": "execute_result"
    }
   ],
   "source": [
    "# Checking the configuration of our vectorizer\n",
    "text_vectorizer.get_config()"
   ]
  },
  {
   "cell_type": "markdown",
   "id": "b9ef5c43",
   "metadata": {
    "papermill": {
     "duration": 0.026451,
     "end_time": "2023-03-17T16:33:20.471844",
     "exception": false,
     "start_time": "2023-03-17T16:33:20.445393",
     "status": "completed"
    },
    "tags": []
   },
   "source": [
    "### Checking how the vectorizer works"
   ]
  },
  {
   "cell_type": "code",
   "execution_count": 36,
   "id": "5e30929f",
   "metadata": {
    "execution": {
     "iopub.execute_input": "2023-03-17T16:33:20.527852Z",
     "iopub.status.busy": "2023-03-17T16:33:20.526684Z",
     "iopub.status.idle": "2023-03-17T16:33:20.560312Z",
     "shell.execute_reply": "2023-03-17T16:33:20.558487Z"
    },
    "papermill": {
     "duration": 0.065267,
     "end_time": "2023-03-17T16:33:20.563734",
     "exception": false,
     "start_time": "2023-03-17T16:33:20.498467",
     "status": "completed"
    },
    "tags": []
   },
   "outputs": [
    {
     "name": "stdout",
     "output_type": "stream",
     "text": [
      "Top words: ['', '[UNK]', 'im', 'like', 'want', 'know', 'feel', 'life', 'get', 'one']\n",
      "Last words: ['utility', 'usage', 'uptight', 'upgrade', 'upbr', 'unusually', 'unseen', 'unprepared', 'unnoticed', 'unneeded']\n"
     ]
    }
   ],
   "source": [
    "# Checking some words of the vocabulary\n",
    "vocab = text_vectorizer.get_vocabulary()\n",
    "print(\"Top words:\", vocab[:10])\n",
    "print(\"Last words:\", vocab[-10:])"
   ]
  },
  {
   "cell_type": "code",
   "execution_count": 37,
   "id": "1dd952a2",
   "metadata": {
    "execution": {
     "iopub.execute_input": "2023-03-17T16:33:20.620358Z",
     "iopub.status.busy": "2023-03-17T16:33:20.618986Z",
     "iopub.status.idle": "2023-03-17T16:33:20.731882Z",
     "shell.execute_reply": "2023-03-17T16:33:20.730123Z"
    },
    "papermill": {
     "duration": 0.143959,
     "end_time": "2023-03-17T16:33:20.734905",
     "exception": false,
     "start_time": "2023-03-17T16:33:20.590946",
     "status": "completed"
    },
    "tags": []
   },
   "outputs": [
    {
     "name": "stdout",
     "output_type": "stream",
     "text": [
      "Random sentence:\n",
      " really fg hate covid today day supposed go friends birthday party planned  months ago looked forward it yesterday day party  guess what running high fever still today though much attend party shit  im feeling really really disappointed sad angry irritated sorry vent guys much tell someone\n",
      "\n",
      "Vectorized sentence:\n",
      " tf.Tensor(\n",
      "[[  17    1   72  964  154   25  421   23   26  538 1000 1214  155  143\n",
      "   729  586   18  622   25 1000  199  652  802  227 5638   37  154  133\n",
      "    24 2424 1000   77    2  103   17   17 1103  190  492 6035  187  957\n",
      "   200   24   97   40    0    0    0    0    0    0    0    0    0    0\n",
      "     0    0    0    0    0    0    0    0    0    0    0    0    0    0\n",
      "     0    0    0    0    0    0    0    0    0    0]], shape=(1, 80), dtype=int64)\n",
      "\n",
      "Vectorized sentence shape: (1, 80)\n"
     ]
    }
   ],
   "source": [
    "# Vectorized sample\n",
    "random_sentence = random.choice(train_sentences)\n",
    "vec_sentence = text_vectorizer([random_sentence])\n",
    "\n",
    "print(\"Random sentence:\\n\", random_sentence)\n",
    "print(\"\\nVectorized sentence:\\n\", vec_sentence)\n",
    "print(\"\\nVectorized sentence shape:\", vec_sentence.shape)"
   ]
  },
  {
   "cell_type": "markdown",
   "id": "17a2472c",
   "metadata": {
    "papermill": {
     "duration": 0.026471,
     "end_time": "2023-03-17T16:33:20.788612",
     "exception": false,
     "start_time": "2023-03-17T16:33:20.762141",
     "status": "completed"
    },
    "tags": []
   },
   "source": [
    "After a few visualizations, we can see that all our sentences have the same shape, longer sentences gets truncated to that shape, and smaller sentences get zero padded.\n",
    "\n",
    "Each word is represented by an unique integer, that represents its index in the vocabulary."
   ]
  },
  {
   "cell_type": "markdown",
   "id": "7f028767",
   "metadata": {
    "papermill": {
     "duration": 0.026456,
     "end_time": "2023-03-17T16:33:20.842603",
     "exception": false,
     "start_time": "2023-03-17T16:33:20.816147",
     "status": "completed"
    },
    "tags": []
   },
   "source": [
    "# Word embeddings"
   ]
  },
  {
   "cell_type": "code",
   "execution_count": 38,
   "id": "ce7389f1",
   "metadata": {
    "execution": {
     "iopub.execute_input": "2023-03-17T16:33:20.900836Z",
     "iopub.status.busy": "2023-03-17T16:33:20.899832Z",
     "iopub.status.idle": "2023-03-17T16:33:20.908094Z",
     "shell.execute_reply": "2023-03-17T16:33:20.906897Z"
    },
    "papermill": {
     "duration": 0.041241,
     "end_time": "2023-03-17T16:33:20.911185",
     "exception": false,
     "start_time": "2023-03-17T16:33:20.869944",
     "status": "completed"
    },
    "tags": []
   },
   "outputs": [],
   "source": [
    "# Crreating embedding layer\n",
    "embedding_layer = Embedding(input_dim=vocab_size,\n",
    "                            output_dim=128,\n",
    "                            name=\"Embedding_0\")"
   ]
  },
  {
   "cell_type": "code",
   "execution_count": 39,
   "id": "4142d1bc",
   "metadata": {
    "execution": {
     "iopub.execute_input": "2023-03-17T16:33:20.968830Z",
     "iopub.status.busy": "2023-03-17T16:33:20.968379Z",
     "iopub.status.idle": "2023-03-17T16:33:21.011294Z",
     "shell.execute_reply": "2023-03-17T16:33:21.009579Z"
    },
    "papermill": {
     "duration": 0.075407,
     "end_time": "2023-03-17T16:33:21.014609",
     "exception": false,
     "start_time": "2023-03-17T16:33:20.939202",
     "status": "completed"
    },
    "tags": []
   },
   "outputs": [
    {
     "name": "stdout",
     "output_type": "stream",
     "text": [
      "Embedded sentence:\n",
      "\n",
      " tf.Tensor(\n",
      "[[[ 1.6111467e-02 -1.2339242e-03 -1.0992661e-03 ...  1.1949025e-02\n",
      "   -2.6286745e-02  1.7531645e-02]\n",
      "  [ 1.6810298e-03  4.1680422e-02  4.6790455e-02 ...  3.5312299e-02\n",
      "    4.6146128e-02 -4.7633778e-02]\n",
      "  [ 7.7533238e-03  6.4004213e-05  2.0110980e-03 ...  2.8203342e-02\n",
      "    4.4211078e-02 -1.2229431e-02]\n",
      "  ...\n",
      "  [-3.4708835e-02  2.8443336e-03 -3.5394132e-02 ... -2.1694792e-02\n",
      "    2.2824857e-02  4.8392441e-02]\n",
      "  [-3.4708835e-02  2.8443336e-03 -3.5394132e-02 ... -2.1694792e-02\n",
      "    2.2824857e-02  4.8392441e-02]\n",
      "  [-3.4708835e-02  2.8443336e-03 -3.5394132e-02 ... -2.1694792e-02\n",
      "    2.2824857e-02  4.8392441e-02]]], shape=(1, 80, 128), dtype=float32)\n",
      "\n",
      "Embedded sentence shape:\n",
      "\n",
      " (1, 80, 128)\n"
     ]
    }
   ],
   "source": [
    "# Visualizing embeddings\n",
    "embedded_sentence = embedding_layer(vec_sentence) # It takes our vectorizer outputs\n",
    "\n",
    "print(\"Embedded sentence:\\n\\n\", embedded_sentence)\n",
    "print(\"\\nEmbedded sentence shape:\\n\\n\", embedded_sentence.shape)"
   ]
  },
  {
   "cell_type": "markdown",
   "id": "cd04d2c5",
   "metadata": {
    "papermill": {
     "duration": 0.026888,
     "end_time": "2023-03-17T16:33:21.068385",
     "exception": false,
     "start_time": "2023-03-17T16:33:21.041497",
     "status": "completed"
    },
    "tags": []
   },
   "source": [
    "We recive as output an embedding of shape (1, 100, 128), that is a representation of 128 dim of each word token. \n",
    "\n",
    "In other words, each word is represented at the end by a vector composed by 128 decimal values.\n",
    "\n",
    "These values have been randomly initialized, but as the model trains, it will learn and adjust these values so that it hopefully gets at the end of the training a good representation of the meaning of each word."
   ]
  },
  {
   "cell_type": "markdown",
   "id": "579d4be3",
   "metadata": {
    "papermill": {
     "duration": 0.026548,
     "end_time": "2023-03-17T16:33:21.122423",
     "exception": false,
     "start_time": "2023-03-17T16:33:21.095875",
     "status": "completed"
    },
    "tags": []
   },
   "source": [
    "# Creating datasets for the models"
   ]
  },
  {
   "cell_type": "code",
   "execution_count": 40,
   "id": "62e4fee1",
   "metadata": {
    "execution": {
     "iopub.execute_input": "2023-03-17T16:33:21.180557Z",
     "iopub.status.busy": "2023-03-17T16:33:21.179480Z",
     "iopub.status.idle": "2023-03-17T16:33:21.364406Z",
     "shell.execute_reply": "2023-03-17T16:33:21.363114Z"
    },
    "papermill": {
     "duration": 0.217041,
     "end_time": "2023-03-17T16:33:21.367642",
     "exception": false,
     "start_time": "2023-03-17T16:33:21.150601",
     "status": "completed"
    },
    "tags": []
   },
   "outputs": [],
   "source": [
    "# Creating datasets\n",
    "train_dataset = tf.data.Dataset.from_tensor_slices((train_sentences, train_labels))\n",
    "val_dataset = tf.data.Dataset.from_tensor_slices((val_sentences, val_labels))\n",
    "test_dataset = tf.data.Dataset.from_tensor_slices((test_sentences, test_labels))"
   ]
  },
  {
   "cell_type": "code",
   "execution_count": 41,
   "id": "81b1552e",
   "metadata": {
    "execution": {
     "iopub.execute_input": "2023-03-17T16:33:21.427460Z",
     "iopub.status.busy": "2023-03-17T16:33:21.427037Z",
     "iopub.status.idle": "2023-03-17T16:33:21.440840Z",
     "shell.execute_reply": "2023-03-17T16:33:21.439431Z"
    },
    "papermill": {
     "duration": 0.047869,
     "end_time": "2023-03-17T16:33:21.444073",
     "exception": false,
     "start_time": "2023-03-17T16:33:21.396204",
     "status": "completed"
    },
    "tags": []
   },
   "outputs": [],
   "source": [
    "# Batching and prefetching\n",
    "train_dataset = train_dataset.batch(32).prefetch(tf.data.AUTOTUNE)\n",
    "val_dataset = val_dataset.batch(32).prefetch(tf.data.AUTOTUNE)\n",
    "test_dataset = test_dataset.batch(32).prefetch(tf.data.AUTOTUNE)"
   ]
  },
  {
   "cell_type": "code",
   "execution_count": 42,
   "id": "cf1f0ab7",
   "metadata": {
    "execution": {
     "iopub.execute_input": "2023-03-17T16:33:21.501202Z",
     "iopub.status.busy": "2023-03-17T16:33:21.500791Z",
     "iopub.status.idle": "2023-03-17T16:33:21.510282Z",
     "shell.execute_reply": "2023-03-17T16:33:21.508965Z"
    },
    "papermill": {
     "duration": 0.040776,
     "end_time": "2023-03-17T16:33:21.512868",
     "exception": false,
     "start_time": "2023-03-17T16:33:21.472092",
     "status": "completed"
    },
    "scrolled": true,
    "tags": []
   },
   "outputs": [
    {
     "data": {
      "text/plain": [
       "(612, 132, 132)"
      ]
     },
     "execution_count": 42,
     "metadata": {},
     "output_type": "execute_result"
    }
   ],
   "source": [
    "# Amount of batches\n",
    "len(train_dataset), len(val_dataset), len(test_dataset)"
   ]
  },
  {
   "cell_type": "code",
   "execution_count": 43,
   "id": "09622d8e",
   "metadata": {
    "execution": {
     "iopub.execute_input": "2023-03-17T16:33:21.569956Z",
     "iopub.status.busy": "2023-03-17T16:33:21.569469Z",
     "iopub.status.idle": "2023-03-17T16:33:21.608633Z",
     "shell.execute_reply": "2023-03-17T16:33:21.606748Z"
    },
    "papermill": {
     "duration": 0.071441,
     "end_time": "2023-03-17T16:33:21.611490",
     "exception": false,
     "start_time": "2023-03-17T16:33:21.540049",
     "status": "completed"
    },
    "tags": []
   },
   "outputs": [
    {
     "name": "stdout",
     "output_type": "stream",
     "text": [
      "First sentence in the first batch:\n",
      "\n",
      " tf.Tensor(b'opening night released  tries ambitious production succeeds truly stunning performance gena rowlands character theatre actress myrtle necessarily someone would love real life selfabsorbed often obnoxious makes life miserable around  words unlike actresses myrtle also woman edge collapse  quite sure demons fighting real imagined although let secret early rowlands obviously well directed love gifted husband actordirector john cassavettes role film well film without flaws  overly long last part film myrtle goes stage drunk seems almost cruel improvising dialogue  least stage  goes way long supporting characters give good performances especially ben gazarra playing myrtles sleazy producer joan blondells character never fully developed never could figure film except placate myrtle see film rowlands alone  fascinating throughout  tough take eyes her although want times', shape=(), dtype=string)\n",
      "\n",
      "First label in the first batch: tf.Tensor(0, shape=(), dtype=int64)\n",
      "\n",
      "Amount of sentences (per batch): 32\n",
      "Amount of labels (per batch): 32\n"
     ]
    }
   ],
   "source": [
    "# Each batch\n",
    "for sent, labels in train_dataset.take(1):\n",
    "    print(\"First sentence in the first batch:\\n\\n\", sent[0])\n",
    "    print(\"\\nFirst label in the first batch:\", labels[0])\n",
    "    print(f\"\\nAmount of sentences (per batch): {len(sent)}\\nAmount of labels (per batch): {len(labels)}\")"
   ]
  },
  {
   "cell_type": "markdown",
   "id": "c9478414",
   "metadata": {
    "papermill": {
     "duration": 0.027396,
     "end_time": "2023-03-17T16:33:21.666151",
     "exception": false,
     "start_time": "2023-03-17T16:33:21.638755",
     "status": "completed"
    },
    "tags": []
   },
   "source": [
    "# Dense model"
   ]
  },
  {
   "cell_type": "code",
   "execution_count": 44,
   "id": "cd595fe3",
   "metadata": {
    "execution": {
     "iopub.execute_input": "2023-03-17T16:33:21.728180Z",
     "iopub.status.busy": "2023-03-17T16:33:21.726857Z",
     "iopub.status.idle": "2023-03-17T16:33:21.835460Z",
     "shell.execute_reply": "2023-03-17T16:33:21.834372Z"
    },
    "papermill": {
     "duration": 0.144373,
     "end_time": "2023-03-17T16:33:21.838319",
     "exception": false,
     "start_time": "2023-03-17T16:33:21.693946",
     "status": "completed"
    },
    "tags": []
   },
   "outputs": [],
   "source": [
    "# Creating Dense model on Functional API\n",
    "\n",
    "inputs = Input(shape=(1,), dtype=tf.string) # Input layer\n",
    "vectorizer = text_vectorizer(inputs) # Vectorizer layer\n",
    "encoder = embedding_layer(vectorizer) # Embedding layer\n",
    "dense = Dense(4, activation=\"relu\")(encoder) # Simple Dense layer\n",
    "flatten = Flatten()(encoder) # Flatten layer\n",
    "outputs = Dense(1, activation=\"sigmoid\")(flatten) # Dense output layer\n",
    "\n",
    "model_dense = Model(inputs, outputs) # Putting it together"
   ]
  },
  {
   "cell_type": "code",
   "execution_count": 45,
   "id": "2ac3db9a",
   "metadata": {
    "execution": {
     "iopub.execute_input": "2023-03-17T16:33:21.897590Z",
     "iopub.status.busy": "2023-03-17T16:33:21.896695Z",
     "iopub.status.idle": "2023-03-17T16:33:21.945970Z",
     "shell.execute_reply": "2023-03-17T16:33:21.944461Z"
    },
    "papermill": {
     "duration": 0.083046,
     "end_time": "2023-03-17T16:33:21.949604",
     "exception": false,
     "start_time": "2023-03-17T16:33:21.866558",
     "status": "completed"
    },
    "tags": []
   },
   "outputs": [
    {
     "name": "stdout",
     "output_type": "stream",
     "text": [
      "Model: \"model\"\n",
      "_________________________________________________________________\n",
      " Layer (type)                Output Shape              Param #   \n",
      "=================================================================\n",
      " input_1 (InputLayer)        [(None, 1)]               0         \n",
      "                                                                 \n",
      " text_vectorization (TextVec  (None, 80)               0         \n",
      " torization)                                                     \n",
      "                                                                 \n",
      " Embedding_0 (Embedding)     (None, 80, 128)           1280000   \n",
      "                                                                 \n",
      " flatten (Flatten)           (None, 10240)             0         \n",
      "                                                                 \n",
      " dense_1 (Dense)             (None, 1)                 10241     \n",
      "                                                                 \n",
      "=================================================================\n",
      "Total params: 1,290,241\n",
      "Trainable params: 1,290,241\n",
      "Non-trainable params: 0\n",
      "_________________________________________________________________\n"
     ]
    }
   ],
   "source": [
    "# Compiling\n",
    "model_dense.compile(loss=tf.keras.losses.BinaryCrossentropy(),\n",
    "                  optimizer=tf.keras.optimizers.Adam(),\n",
    "                  metrics=[\"accuracy\"])\n",
    "# Checking summary\n",
    "model_dense.summary()"
   ]
  },
  {
   "cell_type": "code",
   "execution_count": 46,
   "id": "0f69e777",
   "metadata": {
    "execution": {
     "iopub.execute_input": "2023-03-17T16:33:22.009543Z",
     "iopub.status.busy": "2023-03-17T16:33:22.009062Z",
     "iopub.status.idle": "2023-03-17T16:33:22.231369Z",
     "shell.execute_reply": "2023-03-17T16:33:22.229372Z"
    },
    "papermill": {
     "duration": 0.256135,
     "end_time": "2023-03-17T16:33:22.234680",
     "exception": false,
     "start_time": "2023-03-17T16:33:21.978545",
     "status": "completed"
    },
    "tags": []
   },
   "outputs": [
    {
     "data": {
      "image/png": "[encoded data removed]",
      "text/plain": [
       "<IPython.core.display.Image object>"
      ]
     },
     "execution_count": 46,
     "metadata": {},
     "output_type": "execute_result"
    }
   ],
   "source": [
    "# Plotting model\n",
    "plot_model(model_dense)"
   ]
  },
  {
   "cell_type": "code",
   "execution_count": 47,
   "id": "0c9c9d63",
   "metadata": {
    "execution": {
     "iopub.execute_input": "2023-03-17T16:33:22.295574Z",
     "iopub.status.busy": "2023-03-17T16:33:22.295127Z",
     "iopub.status.idle": "2023-03-17T16:34:07.054970Z",
     "shell.execute_reply": "2023-03-17T16:34:07.053475Z"
    },
    "papermill": {
     "duration": 44.793908,
     "end_time": "2023-03-17T16:34:07.058320",
     "exception": false,
     "start_time": "2023-03-17T16:33:22.264412",
     "status": "completed"
    },
    "scrolled": true,
    "tags": []
   },
   "outputs": [
    {
     "name": "stdout",
     "output_type": "stream",
     "text": [
      "Epoch 1/5\n",
      "612/612 [==============================] - 4s 7ms/step - loss: 0.2942 - accuracy: 0.8765 - val_loss: 0.2080 - val_accuracy: 0.9135\n",
      "Epoch 2/5\n",
      "612/612 [==============================] - 4s 7ms/step - loss: 0.1265 - accuracy: 0.9543 - val_loss: 0.2143 - val_accuracy: 0.9111\n",
      "Epoch 3/5\n",
      "612/612 [==============================] - 4s 7ms/step - loss: 0.0657 - accuracy: 0.9796 - val_loss: 0.2393 - val_accuracy: 0.9095\n",
      "Epoch 4/5\n",
      "612/612 [==============================] - 4s 6ms/step - loss: 0.0325 - accuracy: 0.9914 - val_loss: 0.2670 - val_accuracy: 0.9054\n",
      "Epoch 5/5\n",
      "612/612 [==============================] - 4s 7ms/step - loss: 0.0172 - accuracy: 0.9960 - val_loss: 0.2941 - val_accuracy: 0.9045\n"
     ]
    }
   ],
   "source": [
    "# Training model for 5 epochs\n",
    "model_dense_history = model_dense.fit(train_dataset,\n",
    "                                      epochs=5,\n",
    "                                      validation_data=val_dataset)"
   ]
  },
  {
   "cell_type": "markdown",
   "id": "e0c7910a",
   "metadata": {
    "papermill": {
     "duration": 0.071022,
     "end_time": "2023-03-17T16:34:07.199841",
     "exception": false,
     "start_time": "2023-03-17T16:34:07.128819",
     "status": "completed"
    },
    "tags": []
   },
   "source": [
    "## Results Dense"
   ]
  },
  {
   "cell_type": "code",
   "execution_count": 48,
   "id": "7acdacb0",
   "metadata": {
    "execution": {
     "iopub.execute_input": "2023-03-17T16:34:07.341518Z",
     "iopub.status.busy": "2023-03-17T16:34:07.341078Z",
     "iopub.status.idle": "2023-03-17T16:34:07.347604Z",
     "shell.execute_reply": "2023-03-17T16:34:07.346745Z"
    },
    "papermill": {
     "duration": 0.080411,
     "end_time": "2023-03-17T16:34:07.350011",
     "exception": false,
     "start_time": "2023-03-17T16:34:07.269600",
     "status": "completed"
    },
    "tags": []
   },
   "outputs": [],
   "source": [
    "def get_model_preds(model, dataset, y_true):\n",
    "    \"\"\"\n",
    "    Recibes a model and a validation or test dataset and return the predictions of the model.\n",
    "    \n",
    "    Args:\n",
    "    ----\n",
    "    model (Keras Model) - Model used to make predictions.\n",
    "    dataset (Dataset) - val/test dataset to evaluate the model.\n",
    "    y_true (array) - True labels to calculate the model results.\n",
    "    \n",
    "    Returns:\n",
    "    --------\n",
    "    pred_probs (array) - Prediction probabilities of the model on the dataset.\n",
    "    preds (array) - Predicted labels of the model on the dataset.\n",
    "    results (dict) - The model results (accuracy, precision, recall, f1-score)\n",
    "    \"\"\"\n",
    "    pred_probs = model.predict(dataset) # Prediction probabilities\n",
    "    preds = tf.squeeze(tf.round(pred_probs)) # Predicted labels\n",
    "    results = calculate_metrics(y_true, preds) # Results dictionary\n",
    "    return pred_probs, preds, results"
   ]
  },
  {
   "cell_type": "code",
   "execution_count": 49,
   "id": "8a23a377",
   "metadata": {
    "execution": {
     "iopub.execute_input": "2023-03-17T16:34:07.493287Z",
     "iopub.status.busy": "2023-03-17T16:34:07.492878Z",
     "iopub.status.idle": "2023-03-17T16:34:08.036776Z",
     "shell.execute_reply": "2023-03-17T16:34:08.035720Z"
    },
    "papermill": {
     "duration": 0.619631,
     "end_time": "2023-03-17T16:34:08.039674",
     "exception": false,
     "start_time": "2023-03-17T16:34:07.420043",
     "status": "completed"
    },
    "tags": []
   },
   "outputs": [
    {
     "name": "stdout",
     "output_type": "stream",
     "text": [
      "132/132 [==============================] - 0s 596us/step\n"
     ]
    }
   ],
   "source": [
    "# Getting our model predictions and results\n",
    "model_dense_pred_probs, model_dense_preds, dense_results = get_model_preds(model_dense, \n",
    "                                                                           val_dataset,\n",
    "                                                                           val_labels)"
   ]
  },
  {
   "cell_type": "code",
   "execution_count": 50,
   "id": "8682a065",
   "metadata": {
    "execution": {
     "iopub.execute_input": "2023-03-17T16:34:08.181840Z",
     "iopub.status.busy": "2023-03-17T16:34:08.181386Z",
     "iopub.status.idle": "2023-03-17T16:34:08.191947Z",
     "shell.execute_reply": "2023-03-17T16:34:08.190435Z"
    },
    "papermill": {
     "duration": 0.085144,
     "end_time": "2023-03-17T16:34:08.194812",
     "exception": false,
     "start_time": "2023-03-17T16:34:08.109668",
     "status": "completed"
    },
    "tags": []
   },
   "outputs": [
    {
     "name": "stdout",
     "output_type": "stream",
     "text": [
      "Pred probs samples:\n",
      "\n",
      " [[9.6258980e-01]\n",
      " [7.3538263e-07]\n",
      " [1.0000000e+00]\n",
      " [6.6093293e-05]\n",
      " [1.3830549e-03]\n",
      " [9.1888416e-01]\n",
      " [1.8146748e-02]\n",
      " [8.2341779e-05]\n",
      " [2.1577219e-02]\n",
      " [8.1229860e-01]]\n",
      "\n",
      "Pred labels samples:\n",
      "\n",
      " tf.Tensor([1. 0. 1. 0. 0. 1. 0. 0. 0. 1.], shape=(10,), dtype=float32)\n"
     ]
    }
   ],
   "source": [
    "print(\"Pred probs samples:\\n\\n\", model_dense_pred_probs[:10])\n",
    "print(\"\\nPred labels samples:\\n\\n\", model_dense_preds[:10])"
   ]
  },
  {
   "cell_type": "code",
   "execution_count": 51,
   "id": "b9065236",
   "metadata": {
    "execution": {
     "iopub.execute_input": "2023-03-17T16:34:08.338500Z",
     "iopub.status.busy": "2023-03-17T16:34:08.338072Z",
     "iopub.status.idle": "2023-03-17T16:34:08.344974Z",
     "shell.execute_reply": "2023-03-17T16:34:08.343662Z"
    },
    "papermill": {
     "duration": 0.081752,
     "end_time": "2023-03-17T16:34:08.347377",
     "exception": false,
     "start_time": "2023-03-17T16:34:08.265625",
     "status": "completed"
    },
    "tags": []
   },
   "outputs": [],
   "source": [
    "def results_table(names, *args):\n",
    "    \"\"\"\n",
    "    Model results updatable table funcion. Receives model results as arguments\n",
    "    in dictionary form and returns a dataframe to display and compare them.\n",
    "    \n",
    "    Args:\n",
    "    -----\n",
    "    model_names (list): List with the names of the models to display in the table (Same amount than *args).\n",
    "    *args (dict): As many dictionaries of results as models to evaluate (Same amount than model_names).\n",
    "    \"\"\"\n",
    "    results_dict = {}\n",
    "    for index, arg in enumerate(args):\n",
    "        results_dict[names[index]] = arg\n",
    "\n",
    "    return pd.DataFrame(results_dict).T"
   ]
  },
  {
   "cell_type": "code",
   "execution_count": 52,
   "id": "9171de44",
   "metadata": {
    "execution": {
     "iopub.execute_input": "2023-03-17T16:34:08.494896Z",
     "iopub.status.busy": "2023-03-17T16:34:08.493525Z",
     "iopub.status.idle": "2023-03-17T16:34:08.508554Z",
     "shell.execute_reply": "2023-03-17T16:34:08.507146Z"
    },
    "papermill": {
     "duration": 0.093885,
     "end_time": "2023-03-17T16:34:08.511027",
     "exception": false,
     "start_time": "2023-03-17T16:34:08.417142",
     "status": "completed"
    },
    "tags": []
   },
   "outputs": [
    {
     "data": {
      "text/html": [
       "<div>\n",
       "<style scoped>\n",
       "    .dataframe tbody tr th:only-of-type {\n",
       "        vertical-align: middle;\n",
       "    }\n",
       "\n",
       "    .dataframe tbody tr th {\n",
       "        vertical-align: top;\n",
       "    }\n",
       "\n",
       "    .dataframe thead th {\n",
       "        text-align: right;\n",
       "    }\n",
       "</style>\n",
       "<table border=\"1\" class=\"dataframe\">\n",
       "  <thead>\n",
       "    <tr style=\"text-align: right;\">\n",
       "      <th></th>\n",
       "      <th>accuracy</th>\n",
       "      <th>precision</th>\n",
       "      <th>f1-score</th>\n",
       "      <th>recall</th>\n",
       "    </tr>\n",
       "  </thead>\n",
       "  <tbody>\n",
       "    <tr>\n",
       "      <th>Baseline</th>\n",
       "      <td>0.838933</td>\n",
       "      <td>0.871106</td>\n",
       "      <td>0.836338</td>\n",
       "      <td>0.838933</td>\n",
       "    </tr>\n",
       "    <tr>\n",
       "      <th>Dense</th>\n",
       "      <td>0.904456</td>\n",
       "      <td>0.904545</td>\n",
       "      <td>0.904414</td>\n",
       "      <td>0.904456</td>\n",
       "    </tr>\n",
       "  </tbody>\n",
       "</table>\n",
       "</div>"
      ],
      "text/plain": [
       "          accuracy  precision  f1-score    recall\n",
       "Baseline  0.838933   0.871106  0.836338  0.838933\n",
       "Dense     0.904456   0.904545  0.904414  0.904456"
      ]
     },
     "execution_count": 52,
     "metadata": {},
     "output_type": "execute_result"
    }
   ],
   "source": [
    "results_table([\"Baseline\", \"Dense\"], baseline_results, dense_results)"
   ]
  },
  {
   "cell_type": "markdown",
   "id": "a9cce1ef",
   "metadata": {
    "papermill": {
     "duration": 0.071328,
     "end_time": "2023-03-17T16:34:08.653798",
     "exception": false,
     "start_time": "2023-03-17T16:34:08.582470",
     "status": "completed"
    },
    "tags": []
   },
   "source": [
    "# LSTM model"
   ]
  },
  {
   "cell_type": "code",
   "execution_count": 53,
   "id": "fedd4004",
   "metadata": {
    "execution": {
     "iopub.execute_input": "2023-03-17T16:34:08.797980Z",
     "iopub.status.busy": "2023-03-17T16:34:08.796742Z",
     "iopub.status.idle": "2023-03-17T16:34:09.009097Z",
     "shell.execute_reply": "2023-03-17T16:34:09.007998Z"
    },
    "papermill": {
     "duration": 0.287534,
     "end_time": "2023-03-17T16:34:09.011778",
     "exception": false,
     "start_time": "2023-03-17T16:34:08.724244",
     "status": "completed"
    },
    "tags": []
   },
   "outputs": [],
   "source": [
    "# Crreating custom embedding layer\n",
    "embedding_lstm = Embedding(input_dim=vocab_size,\n",
    "                           output_dim=128,\n",
    "                           name=\"Embedding_lstm\")\n",
    "\n",
    "# Creating LSTM model on Functional API\n",
    "\n",
    "inputs = Input(shape=(1,), dtype=tf.string) # Input layer\n",
    "vectorizer = text_vectorizer(inputs) # Vectorizer layer\n",
    "encoder = embedding_lstm(vectorizer) # Embedding layer\n",
    "lstm = LSTM(units=8, activation=\"relu\")(encoder) # LSTM layer\n",
    "dropout = Dropout(0.2)(lstm)\n",
    "dense = Dense(4, activation=\"relu\")(dropout)\n",
    "\n",
    "outputs = Dense(1, activation=\"sigmoid\")(dense) # Dense output layer\n",
    "\n",
    "model_lstm = Model(inputs, outputs) # Putting it together"
   ]
  },
  {
   "cell_type": "code",
   "execution_count": 54,
   "id": "a645f780",
   "metadata": {
    "execution": {
     "iopub.execute_input": "2023-03-17T16:34:09.155573Z",
     "iopub.status.busy": "2023-03-17T16:34:09.154356Z",
     "iopub.status.idle": "2023-03-17T16:34:09.198231Z",
     "shell.execute_reply": "2023-03-17T16:34:09.196734Z"
    },
    "papermill": {
     "duration": 0.119158,
     "end_time": "2023-03-17T16:34:09.200697",
     "exception": false,
     "start_time": "2023-03-17T16:34:09.081539",
     "status": "completed"
    },
    "scrolled": true,
    "tags": []
   },
   "outputs": [
    {
     "name": "stdout",
     "output_type": "stream",
     "text": [
      "Model: \"model_1\"\n",
      "_________________________________________________________________\n",
      " Layer (type)                Output Shape              Param #   \n",
      "=================================================================\n",
      " input_2 (InputLayer)        [(None, 1)]               0         \n",
      "                                                                 \n",
      " text_vectorization (TextVec  (None, 80)               0         \n",
      " torization)                                                     \n",
      "                                                                 \n",
      " Embedding_lstm (Embedding)  (None, 80, 128)           1280000   \n",
      "                                                                 \n",
      " lstm (LSTM)                 (None, 8)                 4384      \n",
      "                                                                 \n",
      " dropout (Dropout)           (None, 8)                 0         \n",
      "                                                                 \n",
      " dense_2 (Dense)             (None, 4)                 36        \n",
      "                                                                 \n",
      " dense_3 (Dense)             (None, 1)                 5         \n",
      "                                                                 \n",
      "=================================================================\n",
      "Total params: 1,284,425\n",
      "Trainable params: 1,284,425\n",
      "Non-trainable params: 0\n",
      "_________________________________________________________________\n"
     ]
    }
   ],
   "source": [
    "# Compiling\n",
    "model_lstm.compile(loss=tf.keras.losses.BinaryCrossentropy(),\n",
    "                  optimizer=tf.keras.optimizers.Adam(learning_rate=0.001),\n",
    "                  metrics=[\"accuracy\"])\n",
    "# Checking summary\n",
    "model_lstm.summary()"
   ]
  },
  {
   "cell_type": "code",
   "execution_count": 55,
   "id": "8ff1a468",
   "metadata": {
    "execution": {
     "iopub.execute_input": "2023-03-17T16:34:09.344980Z",
     "iopub.status.busy": "2023-03-17T16:34:09.344180Z",
     "iopub.status.idle": "2023-03-17T16:34:09.468074Z",
     "shell.execute_reply": "2023-03-17T16:34:09.466531Z"
    },
    "papermill": {
     "duration": 0.198823,
     "end_time": "2023-03-17T16:34:09.471195",
     "exception": false,
     "start_time": "2023-03-17T16:34:09.272372",
     "status": "completed"
    },
    "tags": []
   },
   "outputs": [
    {
     "data": {
      "image/png": "[encoded data removed]",
      "text/plain": [
       "<IPython.core.display.Image object>"
      ]
     },
     "execution_count": 55,
     "metadata": {},
     "output_type": "execute_result"
    }
   ],
   "source": [
    "# Plotting model\n",
    "plot_model(model_lstm)"
   ]
  },
  {
   "cell_type": "code",
   "execution_count": 56,
   "id": "45ef3e15",
   "metadata": {
    "execution": {
     "iopub.execute_input": "2023-03-17T16:34:09.619311Z",
     "iopub.status.busy": "2023-03-17T16:34:09.618884Z",
     "iopub.status.idle": "2023-03-17T16:36:29.822659Z",
     "shell.execute_reply": "2023-03-17T16:36:29.821485Z"
    },
    "papermill": {
     "duration": 140.281598,
     "end_time": "2023-03-17T16:36:29.825593",
     "exception": false,
     "start_time": "2023-03-17T16:34:09.543995",
     "status": "completed"
    },
    "scrolled": true,
    "tags": []
   },
   "outputs": [
    {
     "name": "stdout",
     "output_type": "stream",
     "text": [
      "Epoch 1/5\n",
      "612/612 [==============================] - 9s 14ms/step - loss: 0.6162 - accuracy: 0.7582 - val_loss: 0.3149 - val_accuracy: 0.8835\n",
      "Epoch 2/5\n",
      "612/612 [==============================] - 8s 14ms/step - loss: 0.8733 - accuracy: 0.8836 - val_loss: 0.2970 - val_accuracy: 0.8942\n",
      "Epoch 3/5\n",
      "612/612 [==============================] - 8s 14ms/step - loss: 0.2496 - accuracy: 0.9072 - val_loss: 0.2856 - val_accuracy: 0.8975\n",
      "Epoch 4/5\n",
      "612/612 [==============================] - 8s 14ms/step - loss: 1.3176 - accuracy: 0.9128 - val_loss: 0.2994 - val_accuracy: 0.8856\n",
      "Epoch 5/5\n",
      "612/612 [==============================] - 8s 14ms/step - loss: 0.3042 - accuracy: 0.8809 - val_loss: 0.3163 - val_accuracy: 0.8940\n"
     ]
    }
   ],
   "source": [
    "# Training model for 5 epochs\n",
    "model_LSTM_history = model_lstm.fit(train_dataset,\n",
    "                                    epochs=5,\n",
    "                                    validation_data=val_dataset)"
   ]
  },
  {
   "cell_type": "markdown",
   "id": "65e49701",
   "metadata": {
    "papermill": {
     "duration": 0.169889,
     "end_time": "2023-03-17T16:36:30.243301",
     "exception": false,
     "start_time": "2023-03-17T16:36:30.073412",
     "status": "completed"
    },
    "tags": []
   },
   "source": [
    "## Results LSTM\n"
   ]
  },
  {
   "cell_type": "code",
   "execution_count": 57,
   "id": "4728fbab",
   "metadata": {
    "execution": {
     "iopub.execute_input": "2023-03-17T16:36:30.587169Z",
     "iopub.status.busy": "2023-03-17T16:36:30.586763Z",
     "iopub.status.idle": "2023-03-17T16:36:32.063412Z",
     "shell.execute_reply": "2023-03-17T16:36:32.062140Z"
    },
    "papermill": {
     "duration": 1.653782,
     "end_time": "2023-03-17T16:36:32.066538",
     "exception": false,
     "start_time": "2023-03-17T16:36:30.412756",
     "status": "completed"
    },
    "tags": []
   },
   "outputs": [
    {
     "name": "stdout",
     "output_type": "stream",
     "text": [
      "132/132 [==============================] - 0s 3ms/step\n"
     ]
    }
   ],
   "source": [
    "# Getting our model results\n",
    "_, lstm_preds, lstm_results = get_model_preds(model_lstm, \n",
    "                                      val_dataset,\n",
    "                                      val_labels)"
   ]
  },
  {
   "cell_type": "code",
   "execution_count": 58,
   "id": "d3aff55b",
   "metadata": {
    "execution": {
     "iopub.execute_input": "2023-03-17T16:36:32.415843Z",
     "iopub.status.busy": "2023-03-17T16:36:32.414895Z",
     "iopub.status.idle": "2023-03-17T16:36:32.429902Z",
     "shell.execute_reply": "2023-03-17T16:36:32.428624Z"
    },
    "papermill": {
     "duration": 0.189681,
     "end_time": "2023-03-17T16:36:32.432476",
     "exception": false,
     "start_time": "2023-03-17T16:36:32.242795",
     "status": "completed"
    },
    "tags": []
   },
   "outputs": [
    {
     "data": {
      "text/html": [
       "<div>\n",
       "<style scoped>\n",
       "    .dataframe tbody tr th:only-of-type {\n",
       "        vertical-align: middle;\n",
       "    }\n",
       "\n",
       "    .dataframe tbody tr th {\n",
       "        vertical-align: top;\n",
       "    }\n",
       "\n",
       "    .dataframe thead th {\n",
       "        text-align: right;\n",
       "    }\n",
       "</style>\n",
       "<table border=\"1\" class=\"dataframe\">\n",
       "  <thead>\n",
       "    <tr style=\"text-align: right;\">\n",
       "      <th></th>\n",
       "      <th>accuracy</th>\n",
       "      <th>precision</th>\n",
       "      <th>f1-score</th>\n",
       "      <th>recall</th>\n",
       "    </tr>\n",
       "  </thead>\n",
       "  <tbody>\n",
       "    <tr>\n",
       "      <th>Baseline</th>\n",
       "      <td>0.838933</td>\n",
       "      <td>0.871106</td>\n",
       "      <td>0.836338</td>\n",
       "      <td>0.838933</td>\n",
       "    </tr>\n",
       "    <tr>\n",
       "      <th>Dense</th>\n",
       "      <td>0.904456</td>\n",
       "      <td>0.904545</td>\n",
       "      <td>0.904414</td>\n",
       "      <td>0.904456</td>\n",
       "    </tr>\n",
       "    <tr>\n",
       "      <th>LSTM</th>\n",
       "      <td>0.893972</td>\n",
       "      <td>0.898188</td>\n",
       "      <td>0.893464</td>\n",
       "      <td>0.893972</td>\n",
       "    </tr>\n",
       "  </tbody>\n",
       "</table>\n",
       "</div>"
      ],
      "text/plain": [
       "          accuracy  precision  f1-score    recall\n",
       "Baseline  0.838933   0.871106  0.836338  0.838933\n",
       "Dense     0.904456   0.904545  0.904414  0.904456\n",
       "LSTM      0.893972   0.898188  0.893464  0.893972"
      ]
     },
     "execution_count": 58,
     "metadata": {},
     "output_type": "execute_result"
    }
   ],
   "source": [
    "results_table([\"Baseline\",\"Dense\", \"LSTM\"], baseline_results, dense_results, lstm_results)"
   ]
  },
  {
   "cell_type": "markdown",
   "id": "b48e2c40",
   "metadata": {
    "papermill": {
     "duration": 0.174558,
     "end_time": "2023-03-17T16:36:32.780154",
     "exception": false,
     "start_time": "2023-03-17T16:36:32.605596",
     "status": "completed"
    },
    "tags": []
   },
   "source": [
    "# Conv1D model"
   ]
  },
  {
   "cell_type": "code",
   "execution_count": 59,
   "id": "cfd9ef2e",
   "metadata": {
    "execution": {
     "iopub.execute_input": "2023-03-17T16:36:33.132179Z",
     "iopub.status.busy": "2023-03-17T16:36:33.130952Z",
     "iopub.status.idle": "2023-03-17T16:36:33.291745Z",
     "shell.execute_reply": "2023-03-17T16:36:33.290199Z"
    },
    "papermill": {
     "duration": 0.348551,
     "end_time": "2023-03-17T16:36:33.301977",
     "exception": false,
     "start_time": "2023-03-17T16:36:32.953426",
     "status": "completed"
    },
    "tags": []
   },
   "outputs": [
    {
     "name": "stdout",
     "output_type": "stream",
     "text": [
      "Model: \"model_Conv1D\"\n",
      "_________________________________________________________________\n",
      " Layer (type)                Output Shape              Param #   \n",
      "=================================================================\n",
      " input_3 (InputLayer)        [(None, 1)]               0         \n",
      "                                                                 \n",
      " text_vectorization (TextVec  (None, 80)               0         \n",
      " torization)                                                     \n",
      "                                                                 \n",
      " Embedding_conv (Embedding)  (None, 80, 128)           1280000   \n",
      "                                                                 \n",
      " conv1d (Conv1D)             (None, 80, 64)            41024     \n",
      "                                                                 \n",
      " global_max_pooling1d (Globa  (None, 64)               0         \n",
      " lMaxPooling1D)                                                  \n",
      "                                                                 \n",
      " dense_4 (Dense)             (None, 32)                2080      \n",
      "                                                                 \n",
      " dense_5 (Dense)             (None, 1)                 33        \n",
      "                                                                 \n",
      "=================================================================\n",
      "Total params: 1,323,137\n",
      "Trainable params: 1,323,137\n",
      "Non-trainable params: 0\n",
      "_________________________________________________________________\n"
     ]
    }
   ],
   "source": [
    "# Custom embedding layer\n",
    "\n",
    "embedding_conv = Embedding(input_dim=vocab_size,\n",
    "                            output_dim=128,\n",
    "                            name=\"Embedding_conv\")\n",
    "\n",
    "# Creating a convolutional model (Functional API)\n",
    "\n",
    "inputs = Input(shape=(1,), dtype=tf.string) # Input layer\n",
    "vectorizer = text_vectorizer(inputs) # Vectorizer layer\n",
    "encoder = embedding_conv(vectorizer) # Embedding layer\n",
    "conv_layer = Conv1D(64, 5, 1, padding=\"same\")(encoder) # Convolutional layer\n",
    "max_pooling = GlobalMaxPooling1D()(conv_layer) # Max Pooling layer\n",
    "dense = Dense(32, activation=\"relu\")(max_pooling) # Extra Dense layer\n",
    "outputs = Dense(1, activation=\"sigmoid\")(dense) # Output layer\n",
    "\n",
    "model_conv = Model(inputs=inputs,\n",
    "                   outputs=outputs,\n",
    "                   name=\"model_Conv1D\") # Putting it together\n",
    "\n",
    "# Compiling \n",
    "model_conv.compile(loss=tf.keras.losses.BinaryCrossentropy(),\n",
    "                   optimizer=tf.keras.optimizers.Adam(learning_rate=0.0001), # Tuned learning_rate\n",
    "                   metrics=[\"accuracy\"])\n",
    "\n",
    "# Checking summary\n",
    "model_conv.summary()"
   ]
  },
  {
   "cell_type": "markdown",
   "id": "d9c697bb",
   "metadata": {
    "papermill": {
     "duration": 0.236939,
     "end_time": "2023-03-17T16:36:33.720458",
     "exception": false,
     "start_time": "2023-03-17T16:36:33.483519",
     "status": "completed"
    },
    "tags": []
   },
   "source": [
    "**Note:** \n",
    "I've reduced Adam's learning rate because the model tends to overfit quickly and this way it gets a slight improvement, however if we leave it default it doesn't change much. Even so, the model tends to overfit, but optimizing this is not the goal of this notebook.\n",
    "\n",
    "The same applies for the extra Dense layer, we can just omit it and doesn't change the result too much."
   ]
  },
  {
   "cell_type": "code",
   "execution_count": 60,
   "id": "767859a5",
   "metadata": {
    "execution": {
     "iopub.execute_input": "2023-03-17T16:36:34.073013Z",
     "iopub.status.busy": "2023-03-17T16:36:34.072544Z",
     "iopub.status.idle": "2023-03-17T16:36:34.206688Z",
     "shell.execute_reply": "2023-03-17T16:36:34.205047Z"
    },
    "papermill": {
     "duration": 0.31587,
     "end_time": "2023-03-17T16:36:34.210485",
     "exception": false,
     "start_time": "2023-03-17T16:36:33.894615",
     "status": "completed"
    },
    "tags": []
   },
   "outputs": [
    {
     "data": {
      "image/png": "[encoded data removed]",
      "text/plain": [
       "<IPython.core.display.Image object>"
      ]
     },
     "execution_count": 60,
     "metadata": {},
     "output_type": "execute_result"
    }
   ],
   "source": [
    "plot_model(model_conv)"
   ]
  },
  {
   "cell_type": "code",
   "execution_count": 61,
   "id": "cf46a542",
   "metadata": {
    "execution": {
     "iopub.execute_input": "2023-03-17T16:36:34.565949Z",
     "iopub.status.busy": "2023-03-17T16:36:34.564457Z",
     "iopub.status.idle": "2023-03-17T16:37:58.946236Z",
     "shell.execute_reply": "2023-03-17T16:37:58.944314Z"
    },
    "papermill": {
     "duration": 84.56321,
     "end_time": "2023-03-17T16:37:58.949455",
     "exception": false,
     "start_time": "2023-03-17T16:36:34.386245",
     "status": "completed"
    },
    "tags": []
   },
   "outputs": [
    {
     "name": "stdout",
     "output_type": "stream",
     "text": [
      "Epoch 1/5\n",
      "612/612 [==============================] - 6s 9ms/step - loss: 0.5721 - accuracy: 0.7459 - val_loss: 0.4115 - val_accuracy: 0.8320\n",
      "Epoch 2/5\n",
      "612/612 [==============================] - 5s 9ms/step - loss: 0.3176 - accuracy: 0.8754 - val_loss: 0.2804 - val_accuracy: 0.8883\n",
      "Epoch 3/5\n",
      "612/612 [==============================] - 6s 9ms/step - loss: 0.2147 - accuracy: 0.9202 - val_loss: 0.2307 - val_accuracy: 0.9128\n",
      "Epoch 4/5\n",
      "612/612 [==============================] - 6s 9ms/step - loss: 0.1611 - accuracy: 0.9432 - val_loss: 0.2173 - val_accuracy: 0.9157\n",
      "Epoch 5/5\n",
      "612/612 [==============================] - 6s 9ms/step - loss: 0.1260 - accuracy: 0.9581 - val_loss: 0.2146 - val_accuracy: 0.9180\n"
     ]
    }
   ],
   "source": [
    "model_conv_history = model_conv.fit(train_dataset,\n",
    "                                        epochs=5,\n",
    "                                        validation_data=val_dataset)"
   ]
  },
  {
   "cell_type": "markdown",
   "id": "285bfadd",
   "metadata": {
    "papermill": {
     "duration": 0.24375,
     "end_time": "2023-03-17T16:37:59.439262",
     "exception": false,
     "start_time": "2023-03-17T16:37:59.195512",
     "status": "completed"
    },
    "tags": []
   },
   "source": [
    "# Results Conv1D"
   ]
  },
  {
   "cell_type": "code",
   "execution_count": 62,
   "id": "21973e08",
   "metadata": {
    "execution": {
     "iopub.execute_input": "2023-03-17T16:37:59.991226Z",
     "iopub.status.busy": "2023-03-17T16:37:59.989822Z",
     "iopub.status.idle": "2023-03-17T16:38:00.857710Z",
     "shell.execute_reply": "2023-03-17T16:38:00.856700Z"
    },
    "papermill": {
     "duration": 1.178257,
     "end_time": "2023-03-17T16:38:00.860497",
     "exception": false,
     "start_time": "2023-03-17T16:37:59.682240",
     "status": "completed"
    },
    "tags": []
   },
   "outputs": [
    {
     "name": "stdout",
     "output_type": "stream",
     "text": [
      "132/132 [==============================] - 0s 1ms/step\n"
     ]
    }
   ],
   "source": [
    "# Get results\n",
    "_, conv_preds, conv_results = get_model_preds(model_conv, \n",
    "                                     val_dataset,\n",
    "                                     val_labels)"
   ]
  },
  {
   "cell_type": "code",
   "execution_count": 63,
   "id": "6006ddca",
   "metadata": {
    "execution": {
     "iopub.execute_input": "2023-03-17T16:38:01.350702Z",
     "iopub.status.busy": "2023-03-17T16:38:01.349837Z",
     "iopub.status.idle": "2023-03-17T16:38:01.365986Z",
     "shell.execute_reply": "2023-03-17T16:38:01.364754Z"
    },
    "papermill": {
     "duration": 0.264875,
     "end_time": "2023-03-17T16:38:01.368544",
     "exception": false,
     "start_time": "2023-03-17T16:38:01.103669",
     "status": "completed"
    },
    "tags": []
   },
   "outputs": [
    {
     "data": {
      "text/html": [
       "<div>\n",
       "<style scoped>\n",
       "    .dataframe tbody tr th:only-of-type {\n",
       "        vertical-align: middle;\n",
       "    }\n",
       "\n",
       "    .dataframe tbody tr th {\n",
       "        vertical-align: top;\n",
       "    }\n",
       "\n",
       "    .dataframe thead th {\n",
       "        text-align: right;\n",
       "    }\n",
       "</style>\n",
       "<table border=\"1\" class=\"dataframe\">\n",
       "  <thead>\n",
       "    <tr style=\"text-align: right;\">\n",
       "      <th></th>\n",
       "      <th>accuracy</th>\n",
       "      <th>precision</th>\n",
       "      <th>f1-score</th>\n",
       "      <th>recall</th>\n",
       "    </tr>\n",
       "  </thead>\n",
       "  <tbody>\n",
       "    <tr>\n",
       "      <th>Baseline</th>\n",
       "      <td>0.838933</td>\n",
       "      <td>0.871106</td>\n",
       "      <td>0.836338</td>\n",
       "      <td>0.838933</td>\n",
       "    </tr>\n",
       "    <tr>\n",
       "      <th>Dense</th>\n",
       "      <td>0.904456</td>\n",
       "      <td>0.904545</td>\n",
       "      <td>0.904414</td>\n",
       "      <td>0.904456</td>\n",
       "    </tr>\n",
       "    <tr>\n",
       "      <th>LSTM</th>\n",
       "      <td>0.893972</td>\n",
       "      <td>0.898188</td>\n",
       "      <td>0.893464</td>\n",
       "      <td>0.893972</td>\n",
       "    </tr>\n",
       "    <tr>\n",
       "      <th>Conv1D</th>\n",
       "      <td>0.918037</td>\n",
       "      <td>0.918034</td>\n",
       "      <td>0.918028</td>\n",
       "      <td>0.918037</td>\n",
       "    </tr>\n",
       "  </tbody>\n",
       "</table>\n",
       "</div>"
      ],
      "text/plain": [
       "          accuracy  precision  f1-score    recall\n",
       "Baseline  0.838933   0.871106  0.836338  0.838933\n",
       "Dense     0.904456   0.904545  0.904414  0.904456\n",
       "LSTM      0.893972   0.898188  0.893464  0.893972\n",
       "Conv1D    0.918037   0.918034  0.918028  0.918037"
      ]
     },
     "execution_count": 63,
     "metadata": {},
     "output_type": "execute_result"
    }
   ],
   "source": [
    "final_results = results_table([\"Baseline\", \"Dense\", \"LSTM\", \"Conv1D\"], baseline_results,\n",
    "                                                                          dense_results,\n",
    "                                                                          lstm_results,\n",
    "                                                                          conv_results)\n",
    "final_results"
   ]
  },
  {
   "cell_type": "markdown",
   "id": "7e545fd7",
   "metadata": {
    "papermill": {
     "duration": 0.240118,
     "end_time": "2023-03-17T16:38:01.854013",
     "exception": false,
     "start_time": "2023-03-17T16:38:01.613895",
     "status": "completed"
    },
    "tags": []
   },
   "source": [
    "# Final visualizations"
   ]
  },
  {
   "cell_type": "markdown",
   "id": "ad502f36",
   "metadata": {
    "papermill": {
     "duration": 0.244719,
     "end_time": "2023-03-17T16:38:02.340033",
     "exception": false,
     "start_time": "2023-03-17T16:38:02.095314",
     "status": "completed"
    },
    "tags": []
   },
   "source": [
    "## Comparing results"
   ]
  },
  {
   "cell_type": "code",
   "execution_count": 64,
   "id": "d8a01c2a",
   "metadata": {
    "execution": {
     "iopub.execute_input": "2023-03-17T16:38:02.883060Z",
     "iopub.status.busy": "2023-03-17T16:38:02.882212Z",
     "iopub.status.idle": "2023-03-17T16:38:03.208083Z",
     "shell.execute_reply": "2023-03-17T16:38:03.206901Z"
    },
    "papermill": {
     "duration": 0.571896,
     "end_time": "2023-03-17T16:38:03.210824",
     "exception": false,
     "start_time": "2023-03-17T16:38:02.638928",
     "status": "completed"
    },
    "tags": []
   },
   "outputs": [
    {
     "data": {
      "image/png": "[encoded data removed]",
      "text/plain": [
       "<Figure size 1200x900 with 1 Axes>"
      ]
     },
     "metadata": {},
     "output_type": "display_data"
    }
   ],
   "source": [
    "# Plot model results\n",
    "final_results.plot(kind=\"barh\", figsize=(12,9), cmap=\"tab20c\").legend(bbox_to_anchor=(1.0, 1.0));"
   ]
  },
  {
   "cell_type": "markdown",
   "id": "65c02cb5",
   "metadata": {
    "papermill": {
     "duration": 0.243976,
     "end_time": "2023-03-17T16:38:03.699029",
     "exception": false,
     "start_time": "2023-03-17T16:38:03.455053",
     "status": "completed"
    },
    "tags": []
   },
   "source": [
    "## Confusion matrices"
   ]
  },
  {
   "cell_type": "code",
   "execution_count": 65,
   "id": "1c9a8e5c",
   "metadata": {
    "execution": {
     "iopub.execute_input": "2023-03-17T16:38:04.187969Z",
     "iopub.status.busy": "2023-03-17T16:38:04.187537Z",
     "iopub.status.idle": "2023-03-17T16:38:04.195219Z",
     "shell.execute_reply": "2023-03-17T16:38:04.193830Z"
    },
    "papermill": {
     "duration": 0.252951,
     "end_time": "2023-03-17T16:38:04.197526",
     "exception": false,
     "start_time": "2023-03-17T16:38:03.944575",
     "status": "completed"
    },
    "tags": []
   },
   "outputs": [],
   "source": [
    "def make_cm(y_true, y_pred, title):\n",
    "    \"\"\"\n",
    "    Function to make a simple custom confusion matrix.\n",
    "    \n",
    "    Args:\n",
    "    -----\n",
    "    y_true (array) - True labels.\n",
    "    y_pred (array) - Predicted labels.\n",
    "    title (str) - Title for the confusion matrix\n",
    "    \"\"\"\n",
    "    # Text font\n",
    "    font = {'family' : 'sans-serif',\n",
    "    'weight' : 'normal',\n",
    "    'size'   : 14}\n",
    "    \n",
    "    cm = confusion_matrix(y_true, y_pred) # Confusion matrix\n",
    "    cmp = ConfusionMatrixDisplay(cm) # CM to display\n",
    "    fig, ax = plt.subplots(figsize=(7,7)) # Fig size\n",
    "    plt.rc('font', **font) # Font sizes\n",
    "    cmp.plot(ax=ax, cmap=plt.cm.Blues) # Plot CM\n",
    "    cmp.ax_.set_title(title, fontsize=24) # Setting title"
   ]
  },
  {
   "cell_type": "code",
   "execution_count": 66,
   "id": "84810f71",
   "metadata": {
    "execution": {
     "iopub.execute_input": "2023-03-17T16:38:04.742465Z",
     "iopub.status.busy": "2023-03-17T16:38:04.741280Z",
     "iopub.status.idle": "2023-03-17T16:38:05.057703Z",
     "shell.execute_reply": "2023-03-17T16:38:05.056442Z"
    },
    "papermill": {
     "duration": 0.620577,
     "end_time": "2023-03-17T16:38:05.060330",
     "exception": false,
     "start_time": "2023-03-17T16:38:04.439753",
     "status": "completed"
    },
    "tags": []
   },
   "outputs": [
    {
     "data": {
      "image/png": "[encoded data removed]",
      "text/plain": [
       "<Figure size 700x700 with 2 Axes>"
      ]
     },
     "metadata": {},
     "output_type": "display_data"
    }
   ],
   "source": [
    "# Baseline CM\n",
    "make_cm(val_labels, baseline_preds, \"Baseline\")"
   ]
  },
  {
   "cell_type": "code",
   "execution_count": 67,
   "id": "abb8000b",
   "metadata": {
    "execution": {
     "iopub.execute_input": "2023-03-17T16:38:05.553425Z",
     "iopub.status.busy": "2023-03-17T16:38:05.553018Z",
     "iopub.status.idle": "2023-03-17T16:38:05.853024Z",
     "shell.execute_reply": "2023-03-17T16:38:05.851669Z"
    },
    "papermill": {
     "duration": 0.549211,
     "end_time": "2023-03-17T16:38:05.855576",
     "exception": false,
     "start_time": "2023-03-17T16:38:05.306365",
     "status": "completed"
    },
    "tags": []
   },
   "outputs": [
    {
     "data": {
      "image/png": "[encoded data removed]",
      "text/plain": [
       "<Figure size 700x700 with 2 Axes>"
      ]
     },
     "metadata": {},
     "output_type": "display_data"
    }
   ],
   "source": [
    "# Dense fully connected CM\n",
    "make_cm(val_labels, model_dense_preds, \"Dense model\")"
   ]
  },
  {
   "cell_type": "code",
   "execution_count": 68,
   "id": "2f388cd1",
   "metadata": {
    "execution": {
     "iopub.execute_input": "2023-03-17T16:38:06.348446Z",
     "iopub.status.busy": "2023-03-17T16:38:06.347631Z",
     "iopub.status.idle": "2023-03-17T16:38:06.652573Z",
     "shell.execute_reply": "2023-03-17T16:38:06.651618Z"
    },
    "papermill": {
     "duration": 0.556428,
     "end_time": "2023-03-17T16:38:06.654711",
     "exception": false,
     "start_time": "2023-03-17T16:38:06.098283",
     "status": "completed"
    },
    "tags": []
   },
   "outputs": [
    {
     "data": {
      "image/png": "[encoded data removed]",
      "text/plain": [
       "<Figure size 700x700 with 2 Axes>"
      ]
     },
     "metadata": {},
     "output_type": "display_data"
    }
   ],
   "source": [
    "# LSTM CM\n",
    "make_cm(val_labels, lstm_preds, \"LSTM model\")"
   ]
  },
  {
   "cell_type": "code",
   "execution_count": 69,
   "id": "1539ef8e",
   "metadata": {
    "execution": {
     "iopub.execute_input": "2023-03-17T16:38:07.148844Z",
     "iopub.status.busy": "2023-03-17T16:38:07.147554Z",
     "iopub.status.idle": "2023-03-17T16:38:07.446057Z",
     "shell.execute_reply": "2023-03-17T16:38:07.445033Z"
    },
    "papermill": {
     "duration": 0.549951,
     "end_time": "2023-03-17T16:38:07.448494",
     "exception": false,
     "start_time": "2023-03-17T16:38:06.898543",
     "status": "completed"
    },
    "tags": []
   },
   "outputs": [
    {
     "data": {
      "image/png": "[encoded data removed]",
      "text/plain": [
       "<Figure size 700x700 with 2 Axes>"
      ]
     },
     "metadata": {},
     "output_type": "display_data"
    }
   ],
   "source": [
    "# Conv CM\n",
    "make_cm(val_labels, conv_preds, \"Conv model\")"
   ]
  },
  {
   "cell_type": "markdown",
   "id": "160b6e38",
   "metadata": {
    "papermill": {
     "duration": 0.244661,
     "end_time": "2023-03-17T16:38:07.996436",
     "exception": false,
     "start_time": "2023-03-17T16:38:07.751775",
     "status": "completed"
    },
    "tags": []
   },
   "source": [
    "As observed, confusion matrices provide valuable insights into the predictions made by our models.\n",
    "\n",
    "In this case, the convolutional model appears to be the most balanced, while the baseline model has the highest number of true positives. However, it's evident that the baseline model's ability to predict true positives is influenced by its strong bias. When uncertain, the baseline model tends to classify instances as positives, resulting in a higher number of false positives as well.\n",
    "\n",
    "Nevertheless, this bias does not necessarily imply a negative aspect. In certain situations, models with such bias can be advantageous. For specific scenarios, we might prefer a model that strictly filters out true negatives. This can be especially useful when the consequence of missing a true negative is severe, such as in critical decision-making processes.\n",
    "\n",
    "Therefore, it is essential to consider the specific requirements and trade-offs when choosing a model. A balanced model like the convolutional model may be preferable in many cases, but a biased model like the baseline can serve a specific purpose effectively."
   ]
  },
  {
   "cell_type": "markdown",
   "id": "953ffd5b",
   "metadata": {
    "papermill": {
     "duration": 0.245677,
     "end_time": "2023-03-17T16:38:08.489816",
     "exception": false,
     "start_time": "2023-03-17T16:38:08.244139",
     "status": "completed"
    },
    "tags": []
   },
   "source": [
    "# Evaluating model on test set"
   ]
  },
  {
   "cell_type": "code",
   "execution_count": 70,
   "id": "89d1fb5a",
   "metadata": {
    "execution": {
     "iopub.execute_input": "2023-03-17T16:38:08.983883Z",
     "iopub.status.busy": "2023-03-17T16:38:08.983103Z",
     "iopub.status.idle": "2023-03-17T16:38:09.742914Z",
     "shell.execute_reply": "2023-03-17T16:38:09.741702Z"
    },
    "papermill": {
     "duration": 1.009632,
     "end_time": "2023-03-17T16:38:09.745863",
     "exception": false,
     "start_time": "2023-03-17T16:38:08.736231",
     "status": "completed"
    },
    "scrolled": true,
    "tags": []
   },
   "outputs": [
    {
     "name": "stdout",
     "output_type": "stream",
     "text": [
      "132/132 [==============================] - 0s 993us/step\n"
     ]
    },
    {
     "data": {
      "text/plain": [
       "{'accuracy': 0.9139861806051942,\n",
       " 'precision': 0.9142036075470874,\n",
       " 'f1-score': 0.91395976604108,\n",
       " 'recall': 0.9139861806051942}"
      ]
     },
     "execution_count": 70,
     "metadata": {},
     "output_type": "execute_result"
    }
   ],
   "source": [
    "# Evaluating our best model (model_conv) on test set\n",
    "test_probs, test_preds, test_results = get_model_preds(model_conv, \n",
    "                                                       test_dataset,\n",
    "                                                       test_labels)\n",
    "test_results"
   ]
  },
  {
   "cell_type": "markdown",
   "id": "7f3298fc",
   "metadata": {
    "papermill": {
     "duration": 0.307798,
     "end_time": "2023-03-17T16:38:10.300788",
     "exception": false,
     "start_time": "2023-03-17T16:38:09.992990",
     "status": "completed"
    },
    "tags": []
   },
   "source": [
    "# Worst predictions (test set)"
   ]
  },
  {
   "cell_type": "markdown",
   "id": "d18b39fc",
   "metadata": {
    "papermill": {
     "duration": 0.245736,
     "end_time": "2023-03-17T16:38:10.793028",
     "exception": false,
     "start_time": "2023-03-17T16:38:10.547292",
     "status": "completed"
    },
    "tags": []
   },
   "source": [
    "Predictions in which our model have high confidence but it's wrong."
   ]
  },
  {
   "cell_type": "code",
   "execution_count": 71,
   "id": "4e1a05d7",
   "metadata": {
    "execution": {
     "iopub.execute_input": "2023-03-17T16:38:11.300636Z",
     "iopub.status.busy": "2023-03-17T16:38:11.299482Z",
     "iopub.status.idle": "2023-03-17T16:38:11.305203Z",
     "shell.execute_reply": "2023-03-17T16:38:11.304207Z"
    },
    "papermill": {
     "duration": 0.270299,
     "end_time": "2023-03-17T16:38:11.307499",
     "exception": false,
     "start_time": "2023-03-17T16:38:11.037200",
     "status": "completed"
    },
    "tags": []
   },
   "outputs": [],
   "source": [
    "# List with our two possible classes\n",
    "classes = [\"Not considered\", \"Poisonous\"]"
   ]
  },
  {
   "cell_type": "code",
   "execution_count": 72,
   "id": "f2a13055",
   "metadata": {
    "execution": {
     "iopub.execute_input": "2023-03-17T16:38:11.815738Z",
     "iopub.status.busy": "2023-03-17T16:38:11.815033Z",
     "iopub.status.idle": "2023-03-17T16:38:11.822016Z",
     "shell.execute_reply": "2023-03-17T16:38:11.820991Z"
    },
    "papermill": {
     "duration": 0.264842,
     "end_time": "2023-03-17T16:38:11.824529",
     "exception": false,
     "start_time": "2023-03-17T16:38:11.559687",
     "status": "completed"
    },
    "tags": []
   },
   "outputs": [],
   "source": [
    "# Corresponding predicted classes\n",
    "pred_classes = [classes[int(pred)] for pred in test_preds.numpy()]"
   ]
  },
  {
   "cell_type": "code",
   "execution_count": 73,
   "id": "0dd6f0c1",
   "metadata": {
    "execution": {
     "iopub.execute_input": "2023-03-17T16:38:12.384798Z",
     "iopub.status.busy": "2023-03-17T16:38:12.383876Z",
     "iopub.status.idle": "2023-03-17T16:38:12.394158Z",
     "shell.execute_reply": "2023-03-17T16:38:12.392743Z"
    },
    "papermill": {
     "duration": 0.266004,
     "end_time": "2023-03-17T16:38:12.396865",
     "exception": false,
     "start_time": "2023-03-17T16:38:12.130861",
     "status": "completed"
    },
    "tags": []
   },
   "outputs": [
    {
     "data": {
      "text/plain": [
       "(['Not considered',\n",
       "  'Not considered',\n",
       "  'Not considered',\n",
       "  'Poisonous',\n",
       "  'Not considered',\n",
       "  'Not considered',\n",
       "  'Not considered',\n",
       "  'Not considered',\n",
       "  'Poisonous',\n",
       "  'Not considered'],\n",
       " <tf.Tensor: shape=(10,), dtype=float32, numpy=array([0., 0., 0., 1., 0., 0., 0., 0., 1., 0.], dtype=float32)>)"
      ]
     },
     "execution_count": 73,
     "metadata": {},
     "output_type": "execute_result"
    }
   ],
   "source": [
    "pred_classes[:10], test_preds[:10]"
   ]
  },
  {
   "cell_type": "code",
   "execution_count": 74,
   "id": "42689fa5",
   "metadata": {
    "execution": {
     "iopub.execute_input": "2023-03-17T16:38:12.890221Z",
     "iopub.status.busy": "2023-03-17T16:38:12.889313Z",
     "iopub.status.idle": "2023-03-17T16:38:12.909014Z",
     "shell.execute_reply": "2023-03-17T16:38:12.907749Z"
    },
    "papermill": {
     "duration": 0.269697,
     "end_time": "2023-03-17T16:38:12.911519",
     "exception": false,
     "start_time": "2023-03-17T16:38:12.641822",
     "status": "completed"
    },
    "tags": []
   },
   "outputs": [
    {
     "data": {
      "text/html": [
       "<div>\n",
       "<style scoped>\n",
       "    .dataframe tbody tr th:only-of-type {\n",
       "        vertical-align: middle;\n",
       "    }\n",
       "\n",
       "    .dataframe tbody tr th {\n",
       "        vertical-align: top;\n",
       "    }\n",
       "\n",
       "    .dataframe thead th {\n",
       "        text-align: right;\n",
       "    }\n",
       "</style>\n",
       "<table border=\"1\" class=\"dataframe\">\n",
       "  <thead>\n",
       "    <tr style=\"text-align: right;\">\n",
       "      <th></th>\n",
       "      <th>text</th>\n",
       "      <th>label</th>\n",
       "      <th>prediction</th>\n",
       "      <th>probabilities</th>\n",
       "      <th>correct</th>\n",
       "    </tr>\n",
       "  </thead>\n",
       "  <tbody>\n",
       "    <tr>\n",
       "      <th>16103</th>\n",
       "      <td>advice attracting opposite sex ask fish fish w...</td>\n",
       "      <td>0</td>\n",
       "      <td>Not considered</td>\n",
       "      <td>0.001072</td>\n",
       "      <td>True</td>\n",
       "    </tr>\n",
       "    <tr>\n",
       "      <th>3126</th>\n",
       "      <td>people make hot text posts images videos feel ...</td>\n",
       "      <td>0</td>\n",
       "      <td>Not considered</td>\n",
       "      <td>0.003465</td>\n",
       "      <td>True</td>\n",
       "    </tr>\n",
       "    <tr>\n",
       "      <th>22701</th>\n",
       "      <td>brother playing scp secret laboratory rn said ...</td>\n",
       "      <td>0</td>\n",
       "      <td>Not considered</td>\n",
       "      <td>0.005480</td>\n",
       "      <td>True</td>\n",
       "    </tr>\n",
       "    <tr>\n",
       "      <th>6277</th>\n",
       "      <td>im fifteen already want dieim tired living spe...</td>\n",
       "      <td>1</td>\n",
       "      <td>Poisonous</td>\n",
       "      <td>0.974158</td>\n",
       "      <td>True</td>\n",
       "    </tr>\n",
       "    <tr>\n",
       "      <th>15945</th>\n",
       "      <td>got  choccy milks happy meal today feel like k...</td>\n",
       "      <td>0</td>\n",
       "      <td>Not considered</td>\n",
       "      <td>0.013960</td>\n",
       "      <td>True</td>\n",
       "    </tr>\n",
       "    <tr>\n",
       "      <th>21266</th>\n",
       "      <td>doctor android use doctors knows apples day do...</td>\n",
       "      <td>0</td>\n",
       "      <td>Not considered</td>\n",
       "      <td>0.026175</td>\n",
       "      <td>True</td>\n",
       "    </tr>\n",
       "    <tr>\n",
       "      <th>27863</th>\n",
       "      <td>finland fact  sauli niinist alpha male</td>\n",
       "      <td>0</td>\n",
       "      <td>Not considered</td>\n",
       "      <td>0.008212</td>\n",
       "      <td>True</td>\n",
       "    </tr>\n",
       "    <tr>\n",
       "      <th>10477</th>\n",
       "      <td>someone family not saying personal reasons thi...</td>\n",
       "      <td>0</td>\n",
       "      <td>Not considered</td>\n",
       "      <td>0.002288</td>\n",
       "      <td>True</td>\n",
       "    </tr>\n",
       "    <tr>\n",
       "      <th>27000</th>\n",
       "      <td>wish people would hate end easieri truly belie...</td>\n",
       "      <td>1</td>\n",
       "      <td>Poisonous</td>\n",
       "      <td>0.997818</td>\n",
       "      <td>True</td>\n",
       "    </tr>\n",
       "    <tr>\n",
       "      <th>27716</th>\n",
       "      <td>unpopular opinion memes better without meme or...</td>\n",
       "      <td>0</td>\n",
       "      <td>Not considered</td>\n",
       "      <td>0.001973</td>\n",
       "      <td>True</td>\n",
       "    </tr>\n",
       "  </tbody>\n",
       "</table>\n",
       "</div>"
      ],
      "text/plain": [
       "                                                    text  label  \\\n",
       "16103  advice attracting opposite sex ask fish fish w...      0   \n",
       "3126   people make hot text posts images videos feel ...      0   \n",
       "22701  brother playing scp secret laboratory rn said ...      0   \n",
       "6277   im fifteen already want dieim tired living spe...      1   \n",
       "15945  got  choccy milks happy meal today feel like k...      0   \n",
       "21266  doctor android use doctors knows apples day do...      0   \n",
       "27863             finland fact  sauli niinist alpha male      0   \n",
       "10477  someone family not saying personal reasons thi...      0   \n",
       "27000  wish people would hate end easieri truly belie...      1   \n",
       "27716  unpopular opinion memes better without meme or...      0   \n",
       "\n",
       "           prediction  probabilities  correct  \n",
       "16103  Not considered       0.001072     True  \n",
       "3126   Not considered       0.003465     True  \n",
       "22701  Not considered       0.005480     True  \n",
       "6277        Poisonous       0.974158     True  \n",
       "15945  Not considered       0.013960     True  \n",
       "21266  Not considered       0.026175     True  \n",
       "27863  Not considered       0.008212     True  \n",
       "10477  Not considered       0.002288     True  \n",
       "27000       Poisonous       0.997818     True  \n",
       "27716  Not considered       0.001973     True  "
      ]
     },
     "execution_count": 74,
     "metadata": {},
     "output_type": "execute_result"
    }
   ],
   "source": [
    "# Creating dataframe with the predctions\n",
    "test_data[\"prediction\"] = pred_classes # Column with labels predicted\n",
    "test_data[\"probabilities\"] = test_probs # Column with probabilities of each label\n",
    "test_data[\"correct\"] = test_preds == test_data[\"label\"] # Prediction right or not\n",
    "\n",
    "test_data.head(10)"
   ]
  },
  {
   "cell_type": "code",
   "execution_count": 75,
   "id": "eddd9b92",
   "metadata": {
    "execution": {
     "iopub.execute_input": "2023-03-17T16:38:13.411706Z",
     "iopub.status.busy": "2023-03-17T16:38:13.410840Z",
     "iopub.status.idle": "2023-03-17T16:38:13.434258Z",
     "shell.execute_reply": "2023-03-17T16:38:13.432990Z"
    },
    "papermill": {
     "duration": 0.27693,
     "end_time": "2023-03-17T16:38:13.436900",
     "exception": false,
     "start_time": "2023-03-17T16:38:13.159970",
     "status": "completed"
    },
    "tags": []
   },
   "outputs": [
    {
     "data": {
      "text/html": [
       "<div>\n",
       "<style scoped>\n",
       "    .dataframe tbody tr th:only-of-type {\n",
       "        vertical-align: middle;\n",
       "    }\n",
       "\n",
       "    .dataframe tbody tr th {\n",
       "        vertical-align: top;\n",
       "    }\n",
       "\n",
       "    .dataframe thead th {\n",
       "        text-align: right;\n",
       "    }\n",
       "</style>\n",
       "<table border=\"1\" class=\"dataframe\">\n",
       "  <thead>\n",
       "    <tr style=\"text-align: right;\">\n",
       "      <th></th>\n",
       "      <th>text</th>\n",
       "      <th>label</th>\n",
       "      <th>prediction</th>\n",
       "      <th>probabilities</th>\n",
       "      <th>correct</th>\n",
       "    </tr>\n",
       "  </thead>\n",
       "  <tbody>\n",
       "    <tr>\n",
       "      <th>18192</th>\n",
       "      <td>best way commit redflag guns rope knives</td>\n",
       "      <td>0</td>\n",
       "      <td>Poisonous</td>\n",
       "      <td>0.999692</td>\n",
       "      <td>False</td>\n",
       "    </tr>\n",
       "    <tr>\n",
       "      <th>15211</th>\n",
       "      <td>dont want kill hate alive havent really gotten...</td>\n",
       "      <td>0</td>\n",
       "      <td>Poisonous</td>\n",
       "      <td>0.999309</td>\n",
       "      <td>False</td>\n",
       "    </tr>\n",
       "    <tr>\n",
       "      <th>8775</th>\n",
       "      <td>normal everytime suicidal thoughts feel happy ...</td>\n",
       "      <td>0</td>\n",
       "      <td>Poisonous</td>\n",
       "      <td>0.998846</td>\n",
       "      <td>False</td>\n",
       "    </tr>\n",
       "    <tr>\n",
       "      <th>2657</th>\n",
       "      <td>counts diagnosed depressed clinically depresse...</td>\n",
       "      <td>0</td>\n",
       "      <td>Poisonous</td>\n",
       "      <td>0.998741</td>\n",
       "      <td>False</td>\n",
       "    </tr>\n",
       "    <tr>\n",
       "      <th>26023</th>\n",
       "      <td>nothing live fuck living feel like wanna kill ...</td>\n",
       "      <td>0</td>\n",
       "      <td>Poisonous</td>\n",
       "      <td>0.998261</td>\n",
       "      <td>False</td>\n",
       "    </tr>\n",
       "    <tr>\n",
       "      <th>...</th>\n",
       "      <td>...</td>\n",
       "      <td>...</td>\n",
       "      <td>...</td>\n",
       "      <td>...</td>\n",
       "      <td>...</td>\n",
       "    </tr>\n",
       "    <tr>\n",
       "      <th>3177</th>\n",
       "      <td>im gonna go see one last movie grandparentsthe...</td>\n",
       "      <td>1</td>\n",
       "      <td>Not considered</td>\n",
       "      <td>0.006114</td>\n",
       "      <td>False</td>\n",
       "    </tr>\n",
       "    <tr>\n",
       "      <th>22042</th>\n",
       "      <td>im done test</td>\n",
       "      <td>1</td>\n",
       "      <td>Not considered</td>\n",
       "      <td>0.004766</td>\n",
       "      <td>False</td>\n",
       "    </tr>\n",
       "    <tr>\n",
       "      <th>22769</th>\n",
       "      <td>wanna diebottom text</td>\n",
       "      <td>1</td>\n",
       "      <td>Not considered</td>\n",
       "      <td>0.004610</td>\n",
       "      <td>False</td>\n",
       "    </tr>\n",
       "    <tr>\n",
       "      <th>16323</th>\n",
       "      <td>walking outside wandering area looked around s...</td>\n",
       "      <td>1</td>\n",
       "      <td>Not considered</td>\n",
       "      <td>0.004064</td>\n",
       "      <td>False</td>\n",
       "    </tr>\n",
       "    <tr>\n",
       "      <th>9126</th>\n",
       "      <td>hey guys watching seth meyers made joke longes...</td>\n",
       "      <td>1</td>\n",
       "      <td>Not considered</td>\n",
       "      <td>0.003799</td>\n",
       "      <td>False</td>\n",
       "    </tr>\n",
       "  </tbody>\n",
       "</table>\n",
       "<p>361 rows × 5 columns</p>\n",
       "</div>"
      ],
      "text/plain": [
       "                                                    text  label  \\\n",
       "18192           best way commit redflag guns rope knives      0   \n",
       "15211  dont want kill hate alive havent really gotten...      0   \n",
       "8775   normal everytime suicidal thoughts feel happy ...      0   \n",
       "2657   counts diagnosed depressed clinically depresse...      0   \n",
       "26023  nothing live fuck living feel like wanna kill ...      0   \n",
       "...                                                  ...    ...   \n",
       "3177   im gonna go see one last movie grandparentsthe...      1   \n",
       "22042                                       im done test      1   \n",
       "22769                               wanna diebottom text      1   \n",
       "16323  walking outside wandering area looked around s...      1   \n",
       "9126   hey guys watching seth meyers made joke longes...      1   \n",
       "\n",
       "           prediction  probabilities  correct  \n",
       "18192       Poisonous       0.999692    False  \n",
       "15211       Poisonous       0.999309    False  \n",
       "8775        Poisonous       0.998846    False  \n",
       "2657        Poisonous       0.998741    False  \n",
       "26023       Poisonous       0.998261    False  \n",
       "...               ...            ...      ...  \n",
       "3177   Not considered       0.006114    False  \n",
       "22042  Not considered       0.004766    False  \n",
       "22769  Not considered       0.004610    False  \n",
       "16323  Not considered       0.004064    False  \n",
       "9126   Not considered       0.003799    False  \n",
       "\n",
       "[361 rows x 5 columns]"
      ]
     },
     "execution_count": 75,
     "metadata": {},
     "output_type": "execute_result"
    }
   ],
   "source": [
    "# Sorting samples to get the worst predictions\n",
    "wrong_samples = test_data[test_data[\"correct\"] == False].sort_values(\"probabilities\", ascending=False)\n",
    "wrong_samples"
   ]
  },
  {
   "cell_type": "markdown",
   "id": "f82e9136",
   "metadata": {
    "papermill": {
     "duration": 0.30426,
     "end_time": "2023-03-17T16:38:13.986087",
     "exception": false,
     "start_time": "2023-03-17T16:38:13.681827",
     "status": "completed"
    },
    "tags": []
   },
   "source": [
    "Now we can explore the worst predictions as much as we want, getting the sentences individually."
   ]
  },
  {
   "cell_type": "code",
   "execution_count": 76,
   "id": "035d60b5",
   "metadata": {
    "execution": {
     "iopub.execute_input": "2023-03-17T16:38:14.487322Z",
     "iopub.status.busy": "2023-03-17T16:38:14.486612Z",
     "iopub.status.idle": "2023-03-17T16:38:14.506759Z",
     "shell.execute_reply": "2023-03-17T16:38:14.505489Z"
    },
    "papermill": {
     "duration": 0.272125,
     "end_time": "2023-03-17T16:38:14.509341",
     "exception": false,
     "start_time": "2023-03-17T16:38:14.237216",
     "status": "completed"
    },
    "tags": []
   },
   "outputs": [
    {
     "data": {
      "text/html": [
       "<div>\n",
       "<style scoped>\n",
       "    .dataframe tbody tr th:only-of-type {\n",
       "        vertical-align: middle;\n",
       "    }\n",
       "\n",
       "    .dataframe tbody tr th {\n",
       "        vertical-align: top;\n",
       "    }\n",
       "\n",
       "    .dataframe thead th {\n",
       "        text-align: right;\n",
       "    }\n",
       "</style>\n",
       "<table border=\"1\" class=\"dataframe\">\n",
       "  <thead>\n",
       "    <tr style=\"text-align: right;\">\n",
       "      <th></th>\n",
       "      <th>text</th>\n",
       "      <th>label</th>\n",
       "      <th>prediction</th>\n",
       "      <th>probabilities</th>\n",
       "      <th>correct</th>\n",
       "    </tr>\n",
       "  </thead>\n",
       "  <tbody>\n",
       "    <tr>\n",
       "      <th>18192</th>\n",
       "      <td>best way commit redflag guns rope knives</td>\n",
       "      <td>0</td>\n",
       "      <td>Poisonous</td>\n",
       "      <td>0.999692</td>\n",
       "      <td>False</td>\n",
       "    </tr>\n",
       "    <tr>\n",
       "      <th>15211</th>\n",
       "      <td>dont want kill hate alive havent really gotten...</td>\n",
       "      <td>0</td>\n",
       "      <td>Poisonous</td>\n",
       "      <td>0.999309</td>\n",
       "      <td>False</td>\n",
       "    </tr>\n",
       "    <tr>\n",
       "      <th>8775</th>\n",
       "      <td>normal everytime suicidal thoughts feel happy ...</td>\n",
       "      <td>0</td>\n",
       "      <td>Poisonous</td>\n",
       "      <td>0.998846</td>\n",
       "      <td>False</td>\n",
       "    </tr>\n",
       "    <tr>\n",
       "      <th>2657</th>\n",
       "      <td>counts diagnosed depressed clinically depresse...</td>\n",
       "      <td>0</td>\n",
       "      <td>Poisonous</td>\n",
       "      <td>0.998741</td>\n",
       "      <td>False</td>\n",
       "    </tr>\n",
       "    <tr>\n",
       "      <th>26023</th>\n",
       "      <td>nothing live fuck living feel like wanna kill ...</td>\n",
       "      <td>0</td>\n",
       "      <td>Poisonous</td>\n",
       "      <td>0.998261</td>\n",
       "      <td>False</td>\n",
       "    </tr>\n",
       "    <tr>\n",
       "      <th>21007</th>\n",
       "      <td>someone talk im lonley suicidal fucked someone...</td>\n",
       "      <td>0</td>\n",
       "      <td>Poisonous</td>\n",
       "      <td>0.998236</td>\n",
       "      <td>False</td>\n",
       "    </tr>\n",
       "    <tr>\n",
       "      <th>6564</th>\n",
       "      <td>much karma need post here alt  still let post ...</td>\n",
       "      <td>0</td>\n",
       "      <td>Poisonous</td>\n",
       "      <td>0.996835</td>\n",
       "      <td>False</td>\n",
       "    </tr>\n",
       "    <tr>\n",
       "      <th>13123</th>\n",
       "      <td>confront mom trigger warning depression self h...</td>\n",
       "      <td>0</td>\n",
       "      <td>Poisonous</td>\n",
       "      <td>0.996099</td>\n",
       "      <td>False</td>\n",
       "    </tr>\n",
       "    <tr>\n",
       "      <th>26905</th>\n",
       "      <td>believe  months now  months since turned back ...</td>\n",
       "      <td>0</td>\n",
       "      <td>Poisonous</td>\n",
       "      <td>0.995828</td>\n",
       "      <td>False</td>\n",
       "    </tr>\n",
       "    <tr>\n",
       "      <th>21495</th>\n",
       "      <td>tell parents consider redflag alot tell them i...</td>\n",
       "      <td>0</td>\n",
       "      <td>Poisonous</td>\n",
       "      <td>0.995554</td>\n",
       "      <td>False</td>\n",
       "    </tr>\n",
       "    <tr>\n",
       "      <th>3786</th>\n",
       "      <td>hate much tw hate everything me hate way look ...</td>\n",
       "      <td>0</td>\n",
       "      <td>Poisonous</td>\n",
       "      <td>0.995504</td>\n",
       "      <td>False</td>\n",
       "    </tr>\n",
       "    <tr>\n",
       "      <th>4279</th>\n",
       "      <td>year year since last mental hospital feel happ...</td>\n",
       "      <td>0</td>\n",
       "      <td>Poisonous</td>\n",
       "      <td>0.995091</td>\n",
       "      <td>False</td>\n",
       "    </tr>\n",
       "    <tr>\n",
       "      <th>8256</th>\n",
       "      <td>open parents mental health ive struggling self...</td>\n",
       "      <td>0</td>\n",
       "      <td>Poisonous</td>\n",
       "      <td>0.994786</td>\n",
       "      <td>False</td>\n",
       "    </tr>\n",
       "    <tr>\n",
       "      <th>26755</th>\n",
       "      <td>bullshit life advice soon m worst days life rn...</td>\n",
       "      <td>0</td>\n",
       "      <td>Poisonous</td>\n",
       "      <td>0.993343</td>\n",
       "      <td>False</td>\n",
       "    </tr>\n",
       "    <tr>\n",
       "      <th>14284</th>\n",
       "      <td>see lot yall asking somebody close suicidal th...</td>\n",
       "      <td>0</td>\n",
       "      <td>Poisonous</td>\n",
       "      <td>0.992988</td>\n",
       "      <td>False</td>\n",
       "    </tr>\n",
       "    <tr>\n",
       "      <th>21511</th>\n",
       "      <td>afraid feel afraid point life theres much done...</td>\n",
       "      <td>0</td>\n",
       "      <td>Poisonous</td>\n",
       "      <td>0.991628</td>\n",
       "      <td>False</td>\n",
       "    </tr>\n",
       "    <tr>\n",
       "      <th>22905</th>\n",
       "      <td>need help boyfriend left days ago hardest expe...</td>\n",
       "      <td>0</td>\n",
       "      <td>Poisonous</td>\n",
       "      <td>0.984017</td>\n",
       "      <td>False</td>\n",
       "    </tr>\n",
       "    <tr>\n",
       "      <th>10334</th>\n",
       "      <td>bad person ruined relationship best friend zoe...</td>\n",
       "      <td>0</td>\n",
       "      <td>Poisonous</td>\n",
       "      <td>0.982160</td>\n",
       "      <td>False</td>\n",
       "    </tr>\n",
       "    <tr>\n",
       "      <th>5524</th>\n",
       "      <td>fucking stupid ever think im worthy happiness ...</td>\n",
       "      <td>0</td>\n",
       "      <td>Poisonous</td>\n",
       "      <td>0.982117</td>\n",
       "      <td>False</td>\n",
       "    </tr>\n",
       "    <tr>\n",
       "      <th>18813</th>\n",
       "      <td>mens mental health talked nearly enough mens m...</td>\n",
       "      <td>0</td>\n",
       "      <td>Poisonous</td>\n",
       "      <td>0.979585</td>\n",
       "      <td>False</td>\n",
       "    </tr>\n",
       "    <tr>\n",
       "      <th>19906</th>\n",
       "      <td>parents acknowledge struggles depression origi...</td>\n",
       "      <td>0</td>\n",
       "      <td>Poisonous</td>\n",
       "      <td>0.978288</td>\n",
       "      <td>False</td>\n",
       "    </tr>\n",
       "    <tr>\n",
       "      <th>1577</th>\n",
       "      <td>something wrong me dont know something wrong n...</td>\n",
       "      <td>0</td>\n",
       "      <td>Poisonous</td>\n",
       "      <td>0.973713</td>\n",
       "      <td>False</td>\n",
       "    </tr>\n",
       "    <tr>\n",
       "      <th>25705</th>\n",
       "      <td>never want die follow easy steps live long wan...</td>\n",
       "      <td>0</td>\n",
       "      <td>Poisonous</td>\n",
       "      <td>0.963474</td>\n",
       "      <td>False</td>\n",
       "    </tr>\n",
       "    <tr>\n",
       "      <th>14396</th>\n",
       "      <td>anyone know lot depression real first time im ...</td>\n",
       "      <td>0</td>\n",
       "      <td>Poisonous</td>\n",
       "      <td>0.962945</td>\n",
       "      <td>False</td>\n",
       "    </tr>\n",
       "    <tr>\n",
       "      <th>8872</th>\n",
       "      <td>crying bookspoiler dasher  year old adopted fa...</td>\n",
       "      <td>0</td>\n",
       "      <td>Poisonous</td>\n",
       "      <td>0.962207</td>\n",
       "      <td>False</td>\n",
       "    </tr>\n",
       "    <tr>\n",
       "      <th>27824</th>\n",
       "      <td>broke glasses broo cannot believe it every sin...</td>\n",
       "      <td>0</td>\n",
       "      <td>Poisonous</td>\n",
       "      <td>0.961166</td>\n",
       "      <td>False</td>\n",
       "    </tr>\n",
       "    <tr>\n",
       "      <th>9835</th>\n",
       "      <td>anyone fear death im little scared aftermath u...</td>\n",
       "      <td>0</td>\n",
       "      <td>Poisonous</td>\n",
       "      <td>0.959844</td>\n",
       "      <td>False</td>\n",
       "    </tr>\n",
       "    <tr>\n",
       "      <th>17019</th>\n",
       "      <td>mmmm okay guess today seriously thought killin...</td>\n",
       "      <td>0</td>\n",
       "      <td>Poisonous</td>\n",
       "      <td>0.957650</td>\n",
       "      <td>False</td>\n",
       "    </tr>\n",
       "    <tr>\n",
       "      <th>21919</th>\n",
       "      <td>feel happy life sometimes feel guilty happy me...</td>\n",
       "      <td>0</td>\n",
       "      <td>Poisonous</td>\n",
       "      <td>0.954150</td>\n",
       "      <td>False</td>\n",
       "    </tr>\n",
       "    <tr>\n",
       "      <th>13580</th>\n",
       "      <td>cyberbullying workshop start ive marked rant t...</td>\n",
       "      <td>0</td>\n",
       "      <td>Poisonous</td>\n",
       "      <td>0.951096</td>\n",
       "      <td>False</td>\n",
       "    </tr>\n",
       "    <tr>\n",
       "      <th>18231</th>\n",
       "      <td>feel this tw tried kill earlier month almost s...</td>\n",
       "      <td>0</td>\n",
       "      <td>Poisonous</td>\n",
       "      <td>0.949228</td>\n",
       "      <td>False</td>\n",
       "    </tr>\n",
       "    <tr>\n",
       "      <th>5076</th>\n",
       "      <td>lonely kinda sucks im human wish close friend ...</td>\n",
       "      <td>0</td>\n",
       "      <td>Poisonous</td>\n",
       "      <td>0.945607</td>\n",
       "      <td>False</td>\n",
       "    </tr>\n",
       "    <tr>\n",
       "      <th>14954</th>\n",
       "      <td>know im tired im tired everything always been ...</td>\n",
       "      <td>0</td>\n",
       "      <td>Poisonous</td>\n",
       "      <td>0.944768</td>\n",
       "      <td>False</td>\n",
       "    </tr>\n",
       "    <tr>\n",
       "      <th>18119</th>\n",
       "      <td>nothing im even tired cant nap nothing</td>\n",
       "      <td>0</td>\n",
       "      <td>Poisonous</td>\n",
       "      <td>0.931304</td>\n",
       "      <td>False</td>\n",
       "    </tr>\n",
       "    <tr>\n",
       "      <th>23870</th>\n",
       "      <td>assigned sort population earth  one side die o...</td>\n",
       "      <td>0</td>\n",
       "      <td>Poisonous</td>\n",
       "      <td>0.931025</td>\n",
       "      <td>False</td>\n",
       "    </tr>\n",
       "    <tr>\n",
       "      <th>11683</th>\n",
       "      <td>fucked even though im  younger sister finally ...</td>\n",
       "      <td>0</td>\n",
       "      <td>Poisonous</td>\n",
       "      <td>0.920401</td>\n",
       "      <td>False</td>\n",
       "    </tr>\n",
       "    <tr>\n",
       "      <th>17601</th>\n",
       "      <td>every new artist like either pedo rapist shitt...</td>\n",
       "      <td>0</td>\n",
       "      <td>Poisonous</td>\n",
       "      <td>0.917601</td>\n",
       "      <td>False</td>\n",
       "    </tr>\n",
       "    <tr>\n",
       "      <th>27717</th>\n",
       "      <td>give life feeling worthless tbh recently accep...</td>\n",
       "      <td>0</td>\n",
       "      <td>Poisonous</td>\n",
       "      <td>0.916565</td>\n",
       "      <td>False</td>\n",
       "    </tr>\n",
       "    <tr>\n",
       "      <th>3155</th>\n",
       "      <td>scared im going kill anyone fucks family cant ...</td>\n",
       "      <td>0</td>\n",
       "      <td>Poisonous</td>\n",
       "      <td>0.915218</td>\n",
       "      <td>False</td>\n",
       "    </tr>\n",
       "    <tr>\n",
       "      <th>19620</th>\n",
       "      <td>feeling displaced rn everything everyone feels...</td>\n",
       "      <td>0</td>\n",
       "      <td>Poisonous</td>\n",
       "      <td>0.914219</td>\n",
       "      <td>False</td>\n",
       "    </tr>\n",
       "    <tr>\n",
       "      <th>125</th>\n",
       "      <td>think need actual help okay depress lately eve...</td>\n",
       "      <td>0</td>\n",
       "      <td>Poisonous</td>\n",
       "      <td>0.913694</td>\n",
       "      <td>False</td>\n",
       "    </tr>\n",
       "    <tr>\n",
       "      <th>19679</th>\n",
       "      <td>someone fucking talk fucking talk</td>\n",
       "      <td>0</td>\n",
       "      <td>Poisonous</td>\n",
       "      <td>0.913220</td>\n",
       "      <td>False</td>\n",
       "    </tr>\n",
       "    <tr>\n",
       "      <th>22692</th>\n",
       "      <td>want bleed tw guess want bleed slice feel ok o...</td>\n",
       "      <td>0</td>\n",
       "      <td>Poisonous</td>\n",
       "      <td>0.911815</td>\n",
       "      <td>False</td>\n",
       "    </tr>\n",
       "    <tr>\n",
       "      <th>3529</th>\n",
       "      <td>best friends dad died yesterday dont know help...</td>\n",
       "      <td>0</td>\n",
       "      <td>Poisonous</td>\n",
       "      <td>0.905735</td>\n",
       "      <td>False</td>\n",
       "    </tr>\n",
       "    <tr>\n",
       "      <th>15264</th>\n",
       "      <td>hate life everytime chance happy always dead e...</td>\n",
       "      <td>0</td>\n",
       "      <td>Poisonous</td>\n",
       "      <td>0.905328</td>\n",
       "      <td>False</td>\n",
       "    </tr>\n",
       "  </tbody>\n",
       "</table>\n",
       "</div>"
      ],
      "text/plain": [
       "                                                    text  label prediction  \\\n",
       "18192           best way commit redflag guns rope knives      0  Poisonous   \n",
       "15211  dont want kill hate alive havent really gotten...      0  Poisonous   \n",
       "8775   normal everytime suicidal thoughts feel happy ...      0  Poisonous   \n",
       "2657   counts diagnosed depressed clinically depresse...      0  Poisonous   \n",
       "26023  nothing live fuck living feel like wanna kill ...      0  Poisonous   \n",
       "21007  someone talk im lonley suicidal fucked someone...      0  Poisonous   \n",
       "6564   much karma need post here alt  still let post ...      0  Poisonous   \n",
       "13123  confront mom trigger warning depression self h...      0  Poisonous   \n",
       "26905  believe  months now  months since turned back ...      0  Poisonous   \n",
       "21495  tell parents consider redflag alot tell them i...      0  Poisonous   \n",
       "3786   hate much tw hate everything me hate way look ...      0  Poisonous   \n",
       "4279   year year since last mental hospital feel happ...      0  Poisonous   \n",
       "8256   open parents mental health ive struggling self...      0  Poisonous   \n",
       "26755  bullshit life advice soon m worst days life rn...      0  Poisonous   \n",
       "14284  see lot yall asking somebody close suicidal th...      0  Poisonous   \n",
       "21511  afraid feel afraid point life theres much done...      0  Poisonous   \n",
       "22905  need help boyfriend left days ago hardest expe...      0  Poisonous   \n",
       "10334  bad person ruined relationship best friend zoe...      0  Poisonous   \n",
       "5524   fucking stupid ever think im worthy happiness ...      0  Poisonous   \n",
       "18813  mens mental health talked nearly enough mens m...      0  Poisonous   \n",
       "19906  parents acknowledge struggles depression origi...      0  Poisonous   \n",
       "1577   something wrong me dont know something wrong n...      0  Poisonous   \n",
       "25705  never want die follow easy steps live long wan...      0  Poisonous   \n",
       "14396  anyone know lot depression real first time im ...      0  Poisonous   \n",
       "8872   crying bookspoiler dasher  year old adopted fa...      0  Poisonous   \n",
       "27824  broke glasses broo cannot believe it every sin...      0  Poisonous   \n",
       "9835   anyone fear death im little scared aftermath u...      0  Poisonous   \n",
       "17019  mmmm okay guess today seriously thought killin...      0  Poisonous   \n",
       "21919  feel happy life sometimes feel guilty happy me...      0  Poisonous   \n",
       "13580  cyberbullying workshop start ive marked rant t...      0  Poisonous   \n",
       "18231  feel this tw tried kill earlier month almost s...      0  Poisonous   \n",
       "5076   lonely kinda sucks im human wish close friend ...      0  Poisonous   \n",
       "14954  know im tired im tired everything always been ...      0  Poisonous   \n",
       "18119             nothing im even tired cant nap nothing      0  Poisonous   \n",
       "23870  assigned sort population earth  one side die o...      0  Poisonous   \n",
       "11683  fucked even though im  younger sister finally ...      0  Poisonous   \n",
       "17601  every new artist like either pedo rapist shitt...      0  Poisonous   \n",
       "27717  give life feeling worthless tbh recently accep...      0  Poisonous   \n",
       "3155   scared im going kill anyone fucks family cant ...      0  Poisonous   \n",
       "19620  feeling displaced rn everything everyone feels...      0  Poisonous   \n",
       "125    think need actual help okay depress lately eve...      0  Poisonous   \n",
       "19679                  someone fucking talk fucking talk      0  Poisonous   \n",
       "22692  want bleed tw guess want bleed slice feel ok o...      0  Poisonous   \n",
       "3529   best friends dad died yesterday dont know help...      0  Poisonous   \n",
       "15264  hate life everytime chance happy always dead e...      0  Poisonous   \n",
       "\n",
       "       probabilities  correct  \n",
       "18192       0.999692    False  \n",
       "15211       0.999309    False  \n",
       "8775        0.998846    False  \n",
       "2657        0.998741    False  \n",
       "26023       0.998261    False  \n",
       "21007       0.998236    False  \n",
       "6564        0.996835    False  \n",
       "13123       0.996099    False  \n",
       "26905       0.995828    False  \n",
       "21495       0.995554    False  \n",
       "3786        0.995504    False  \n",
       "4279        0.995091    False  \n",
       "8256        0.994786    False  \n",
       "26755       0.993343    False  \n",
       "14284       0.992988    False  \n",
       "21511       0.991628    False  \n",
       "22905       0.984017    False  \n",
       "10334       0.982160    False  \n",
       "5524        0.982117    False  \n",
       "18813       0.979585    False  \n",
       "19906       0.978288    False  \n",
       "1577        0.973713    False  \n",
       "25705       0.963474    False  \n",
       "14396       0.962945    False  \n",
       "8872        0.962207    False  \n",
       "27824       0.961166    False  \n",
       "9835        0.959844    False  \n",
       "17019       0.957650    False  \n",
       "21919       0.954150    False  \n",
       "13580       0.951096    False  \n",
       "18231       0.949228    False  \n",
       "5076        0.945607    False  \n",
       "14954       0.944768    False  \n",
       "18119       0.931304    False  \n",
       "23870       0.931025    False  \n",
       "11683       0.920401    False  \n",
       "17601       0.917601    False  \n",
       "27717       0.916565    False  \n",
       "3155        0.915218    False  \n",
       "19620       0.914219    False  \n",
       "125         0.913694    False  \n",
       "19679       0.913220    False  \n",
       "22692       0.911815    False  \n",
       "3529        0.905735    False  \n",
       "15264       0.905328    False  "
      ]
     },
     "execution_count": 76,
     "metadata": {},
     "output_type": "execute_result"
    }
   ],
   "source": [
    "# False positives\n",
    "worst_false_positives = wrong_samples[wrong_samples[\"probabilities\"] > 0.9]\n",
    "worst_false_positives"
   ]
  },
  {
   "cell_type": "code",
   "execution_count": 77,
   "id": "aa174c93",
   "metadata": {
    "execution": {
     "iopub.execute_input": "2023-03-17T16:38:15.010703Z",
     "iopub.status.busy": "2023-03-17T16:38:15.009836Z",
     "iopub.status.idle": "2023-03-17T16:38:15.031289Z",
     "shell.execute_reply": "2023-03-17T16:38:15.030052Z"
    },
    "papermill": {
     "duration": 0.278373,
     "end_time": "2023-03-17T16:38:15.033954",
     "exception": false,
     "start_time": "2023-03-17T16:38:14.755581",
     "status": "completed"
    },
    "tags": []
   },
   "outputs": [
    {
     "data": {
      "text/html": [
       "<div>\n",
       "<style scoped>\n",
       "    .dataframe tbody tr th:only-of-type {\n",
       "        vertical-align: middle;\n",
       "    }\n",
       "\n",
       "    .dataframe tbody tr th {\n",
       "        vertical-align: top;\n",
       "    }\n",
       "\n",
       "    .dataframe thead th {\n",
       "        text-align: right;\n",
       "    }\n",
       "</style>\n",
       "<table border=\"1\" class=\"dataframe\">\n",
       "  <thead>\n",
       "    <tr style=\"text-align: right;\">\n",
       "      <th></th>\n",
       "      <th>text</th>\n",
       "      <th>label</th>\n",
       "      <th>prediction</th>\n",
       "      <th>probabilities</th>\n",
       "      <th>correct</th>\n",
       "    </tr>\n",
       "  </thead>\n",
       "  <tbody>\n",
       "    <tr>\n",
       "      <th>6059</th>\n",
       "      <td>little success finding one free text therapy apps</td>\n",
       "      <td>1</td>\n",
       "      <td>Not considered</td>\n",
       "      <td>0.098274</td>\n",
       "      <td>False</td>\n",
       "    </tr>\n",
       "    <tr>\n",
       "      <th>24180</th>\n",
       "      <td>dont itdont people love</td>\n",
       "      <td>1</td>\n",
       "      <td>Not considered</td>\n",
       "      <td>0.097264</td>\n",
       "      <td>False</td>\n",
       "    </tr>\n",
       "    <tr>\n",
       "      <th>26422</th>\n",
       "      <td>good videos selflyingon hope may help others h...</td>\n",
       "      <td>1</td>\n",
       "      <td>Not considered</td>\n",
       "      <td>0.097180</td>\n",
       "      <td>False</td>\n",
       "    </tr>\n",
       "    <tr>\n",
       "      <th>4201</th>\n",
       "      <td>ur serious gonna kill urself theres talking le...</td>\n",
       "      <td>1</td>\n",
       "      <td>Not considered</td>\n",
       "      <td>0.092526</td>\n",
       "      <td>False</td>\n",
       "    </tr>\n",
       "    <tr>\n",
       "      <th>12731</th>\n",
       "      <td>feel like girl best friend  years slowly becom...</td>\n",
       "      <td>1</td>\n",
       "      <td>Not considered</td>\n",
       "      <td>0.087031</td>\n",
       "      <td>False</td>\n",
       "    </tr>\n",
       "    <tr>\n",
       "      <th>5500</th>\n",
       "      <td>failed attemptetried drowning ocean got nevk h...</td>\n",
       "      <td>1</td>\n",
       "      <td>Not considered</td>\n",
       "      <td>0.086926</td>\n",
       "      <td>False</td>\n",
       "    </tr>\n",
       "    <tr>\n",
       "      <th>27399</th>\n",
       "      <td>academic pressures causing cousin consider red...</td>\n",
       "      <td>1</td>\n",
       "      <td>Not considered</td>\n",
       "      <td>0.082575</td>\n",
       "      <td>False</td>\n",
       "    </tr>\n",
       "    <tr>\n",
       "      <th>13190</th>\n",
       "      <td>theres nothing left moves anymore emotions lon...</td>\n",
       "      <td>1</td>\n",
       "      <td>Not considered</td>\n",
       "      <td>0.082519</td>\n",
       "      <td>False</td>\n",
       "    </tr>\n",
       "    <tr>\n",
       "      <th>3826</th>\n",
       "      <td>personal article mental health holdback darker...</td>\n",
       "      <td>1</td>\n",
       "      <td>Not considered</td>\n",
       "      <td>0.082515</td>\n",
       "      <td>False</td>\n",
       "    </tr>\n",
       "    <tr>\n",
       "      <th>1688</th>\n",
       "      <td>creating final playlistim thinking song or son...</td>\n",
       "      <td>1</td>\n",
       "      <td>Not considered</td>\n",
       "      <td>0.081796</td>\n",
       "      <td>False</td>\n",
       "    </tr>\n",
       "    <tr>\n",
       "      <th>17138</th>\n",
       "      <td>ever get better getting bad</td>\n",
       "      <td>1</td>\n",
       "      <td>Not considered</td>\n",
       "      <td>0.080565</td>\n",
       "      <td>False</td>\n",
       "    </tr>\n",
       "    <tr>\n",
       "      <th>10587</th>\n",
       "      <td>people say want hear give uphas anyone else ex...</td>\n",
       "      <td>1</td>\n",
       "      <td>Not considered</td>\n",
       "      <td>0.079198</td>\n",
       "      <td>False</td>\n",
       "    </tr>\n",
       "    <tr>\n",
       "      <th>16962</th>\n",
       "      <td>get funnybecome hoego doctorskill list</td>\n",
       "      <td>1</td>\n",
       "      <td>Not considered</td>\n",
       "      <td>0.079026</td>\n",
       "      <td>False</td>\n",
       "    </tr>\n",
       "    <tr>\n",
       "      <th>26297</th>\n",
       "      <td>leave nephewniece personal memorytoday middle ...</td>\n",
       "      <td>1</td>\n",
       "      <td>Not considered</td>\n",
       "      <td>0.076950</td>\n",
       "      <td>False</td>\n",
       "    </tr>\n",
       "    <tr>\n",
       "      <th>3693</th>\n",
       "      <td>hate worldone day day come</td>\n",
       "      <td>1</td>\n",
       "      <td>Not considered</td>\n",
       "      <td>0.074905</td>\n",
       "      <td>False</td>\n",
       "    </tr>\n",
       "    <tr>\n",
       "      <th>7094</th>\n",
       "      <td>ive given upi need someone talk to im close it...</td>\n",
       "      <td>1</td>\n",
       "      <td>Not considered</td>\n",
       "      <td>0.072228</td>\n",
       "      <td>False</td>\n",
       "    </tr>\n",
       "    <tr>\n",
       "      <th>8656</th>\n",
       "      <td>girl asked depresseda girl class know well im ...</td>\n",
       "      <td>1</td>\n",
       "      <td>Not considered</td>\n",
       "      <td>0.070388</td>\n",
       "      <td>False</td>\n",
       "    </tr>\n",
       "    <tr>\n",
       "      <th>19632</th>\n",
       "      <td>want break free want break free</td>\n",
       "      <td>1</td>\n",
       "      <td>Not considered</td>\n",
       "      <td>0.070190</td>\n",
       "      <td>False</td>\n",
       "    </tr>\n",
       "    <tr>\n",
       "      <th>22664</th>\n",
       "      <td>im sad right nowwhy cant loved lonely sad that...</td>\n",
       "      <td>1</td>\n",
       "      <td>Not considered</td>\n",
       "      <td>0.068225</td>\n",
       "      <td>False</td>\n",
       "    </tr>\n",
       "    <tr>\n",
       "      <th>3509</th>\n",
       "      <td>aight imma head outanyone need something im gone</td>\n",
       "      <td>1</td>\n",
       "      <td>Not considered</td>\n",
       "      <td>0.064407</td>\n",
       "      <td>False</td>\n",
       "    </tr>\n",
       "    <tr>\n",
       "      <th>17562</th>\n",
       "      <td>comments posts want talk okay guessi post wish...</td>\n",
       "      <td>1</td>\n",
       "      <td>Not considered</td>\n",
       "      <td>0.063001</td>\n",
       "      <td>False</td>\n",
       "    </tr>\n",
       "    <tr>\n",
       "      <th>20929</th>\n",
       "      <td>lonelyi know im lonely friends lonely time</td>\n",
       "      <td>1</td>\n",
       "      <td>Not considered</td>\n",
       "      <td>0.060693</td>\n",
       "      <td>False</td>\n",
       "    </tr>\n",
       "    <tr>\n",
       "      <th>14233</th>\n",
       "      <td>ruins day wake lol morning wake dissapointment</td>\n",
       "      <td>1</td>\n",
       "      <td>Not considered</td>\n",
       "      <td>0.059756</td>\n",
       "      <td>False</td>\n",
       "    </tr>\n",
       "    <tr>\n",
       "      <th>11378</th>\n",
       "      <td>struggle hiding low mood act happy not childre...</td>\n",
       "      <td>1</td>\n",
       "      <td>Not considered</td>\n",
       "      <td>0.058183</td>\n",
       "      <td>False</td>\n",
       "    </tr>\n",
       "    <tr>\n",
       "      <th>7839</th>\n",
       "      <td>please reply see this many thanks anyone see p...</td>\n",
       "      <td>1</td>\n",
       "      <td>Not considered</td>\n",
       "      <td>0.056310</td>\n",
       "      <td>False</td>\n",
       "    </tr>\n",
       "    <tr>\n",
       "      <th>14078</th>\n",
       "      <td>free promised freedom lie</td>\n",
       "      <td>1</td>\n",
       "      <td>Not considered</td>\n",
       "      <td>0.054429</td>\n",
       "      <td>False</td>\n",
       "    </tr>\n",
       "    <tr>\n",
       "      <th>14564</th>\n",
       "      <td>anyone elsei murderous tendencies dont act alt...</td>\n",
       "      <td>1</td>\n",
       "      <td>Not considered</td>\n",
       "      <td>0.053744</td>\n",
       "      <td>False</td>\n",
       "    </tr>\n",
       "    <tr>\n",
       "      <th>6280</th>\n",
       "      <td>years ago decided come korea study electronic...</td>\n",
       "      <td>1</td>\n",
       "      <td>Not considered</td>\n",
       "      <td>0.053370</td>\n",
       "      <td>False</td>\n",
       "    </tr>\n",
       "    <tr>\n",
       "      <th>8434</th>\n",
       "      <td>im still alive im deleting reddit tomorrowthan...</td>\n",
       "      <td>1</td>\n",
       "      <td>Not considered</td>\n",
       "      <td>0.044261</td>\n",
       "      <td>False</td>\n",
       "    </tr>\n",
       "    <tr>\n",
       "      <th>25533</th>\n",
       "      <td>allowed posti posted hour half ago nothings sh...</td>\n",
       "      <td>1</td>\n",
       "      <td>Not considered</td>\n",
       "      <td>0.035680</td>\n",
       "      <td>False</td>\n",
       "    </tr>\n",
       "    <tr>\n",
       "      <th>18011</th>\n",
       "      <td>never thought id b alone christmasits kinda se...</td>\n",
       "      <td>1</td>\n",
       "      <td>Not considered</td>\n",
       "      <td>0.034947</td>\n",
       "      <td>False</td>\n",
       "    </tr>\n",
       "    <tr>\n",
       "      <th>20707</th>\n",
       "      <td>ittook everything have bye yall</td>\n",
       "      <td>1</td>\n",
       "      <td>Not considered</td>\n",
       "      <td>0.034706</td>\n",
       "      <td>False</td>\n",
       "    </tr>\n",
       "    <tr>\n",
       "      <th>15596</th>\n",
       "      <td>ignoring him thats post about basically time e...</td>\n",
       "      <td>1</td>\n",
       "      <td>Not considered</td>\n",
       "      <td>0.032684</td>\n",
       "      <td>False</td>\n",
       "    </tr>\n",
       "    <tr>\n",
       "      <th>12024</th>\n",
       "      <td>wheelof chemicals ampxb morals ampxb maybe per...</td>\n",
       "      <td>1</td>\n",
       "      <td>Not considered</td>\n",
       "      <td>0.028395</td>\n",
       "      <td>False</td>\n",
       "    </tr>\n",
       "    <tr>\n",
       "      <th>14675</th>\n",
       "      <td>hey guys games play sad want distract yourself...</td>\n",
       "      <td>1</td>\n",
       "      <td>Not considered</td>\n",
       "      <td>0.026976</td>\n",
       "      <td>False</td>\n",
       "    </tr>\n",
       "    <tr>\n",
       "      <th>9882</th>\n",
       "      <td>one favorite songs feeling hopelesshttpswwwyou...</td>\n",
       "      <td>1</td>\n",
       "      <td>Not considered</td>\n",
       "      <td>0.026211</td>\n",
       "      <td>False</td>\n",
       "    </tr>\n",
       "    <tr>\n",
       "      <th>20686</th>\n",
       "      <td>music going listen gopersonally im going liste...</td>\n",
       "      <td>1</td>\n",
       "      <td>Not considered</td>\n",
       "      <td>0.025738</td>\n",
       "      <td>False</td>\n",
       "    </tr>\n",
       "    <tr>\n",
       "      <th>25790</th>\n",
       "      <td>seeing thingsso lately ive daydream type thing...</td>\n",
       "      <td>1</td>\n",
       "      <td>Not considered</td>\n",
       "      <td>0.022065</td>\n",
       "      <td>False</td>\n",
       "    </tr>\n",
       "    <tr>\n",
       "      <th>22384</th>\n",
       "      <td>brought existencethis shit doesnt make sense</td>\n",
       "      <td>1</td>\n",
       "      <td>Not considered</td>\n",
       "      <td>0.021857</td>\n",
       "      <td>False</td>\n",
       "    </tr>\n",
       "    <tr>\n",
       "      <th>25332</th>\n",
       "      <td>theres something wrong medeleted</td>\n",
       "      <td>1</td>\n",
       "      <td>Not considered</td>\n",
       "      <td>0.020408</td>\n",
       "      <td>False</td>\n",
       "    </tr>\n",
       "    <tr>\n",
       "      <th>17338</th>\n",
       "      <td>wanna stick knife me end rightim  recently dis...</td>\n",
       "      <td>1</td>\n",
       "      <td>Not considered</td>\n",
       "      <td>0.019968</td>\n",
       "      <td>False</td>\n",
       "    </tr>\n",
       "    <tr>\n",
       "      <th>4743</th>\n",
       "      <td>hello</td>\n",
       "      <td>1</td>\n",
       "      <td>Not considered</td>\n",
       "      <td>0.018765</td>\n",
       "      <td>False</td>\n",
       "    </tr>\n",
       "    <tr>\n",
       "      <th>12957</th>\n",
       "      <td>boyfriend dramaagainhe hasnt talked day yet he...</td>\n",
       "      <td>1</td>\n",
       "      <td>Not considered</td>\n",
       "      <td>0.016432</td>\n",
       "      <td>False</td>\n",
       "    </tr>\n",
       "    <tr>\n",
       "      <th>8378</th>\n",
       "      <td>whats favorite method finish allwhats method b...</td>\n",
       "      <td>1</td>\n",
       "      <td>Not considered</td>\n",
       "      <td>0.015337</td>\n",
       "      <td>False</td>\n",
       "    </tr>\n",
       "    <tr>\n",
       "      <th>25133</th>\n",
       "      <td>something like free willi think so make sense</td>\n",
       "      <td>1</td>\n",
       "      <td>Not considered</td>\n",
       "      <td>0.015293</td>\n",
       "      <td>False</td>\n",
       "    </tr>\n",
       "    <tr>\n",
       "      <th>14106</th>\n",
       "      <td>great year mask makers acrylic installersbey...</td>\n",
       "      <td>1</td>\n",
       "      <td>Not considered</td>\n",
       "      <td>0.012557</td>\n",
       "      <td>False</td>\n",
       "    </tr>\n",
       "    <tr>\n",
       "      <th>17259</th>\n",
       "      <td>fucking manybeen thinking deleting account mig...</td>\n",
       "      <td>1</td>\n",
       "      <td>Not considered</td>\n",
       "      <td>0.012023</td>\n",
       "      <td>False</td>\n",
       "    </tr>\n",
       "    <tr>\n",
       "      <th>7937</th>\n",
       "      <td>anyone wanna add snapchat incase need someone ...</td>\n",
       "      <td>1</td>\n",
       "      <td>Not considered</td>\n",
       "      <td>0.007671</td>\n",
       "      <td>False</td>\n",
       "    </tr>\n",
       "    <tr>\n",
       "      <th>3177</th>\n",
       "      <td>im gonna go see one last movie grandparentsthe...</td>\n",
       "      <td>1</td>\n",
       "      <td>Not considered</td>\n",
       "      <td>0.006114</td>\n",
       "      <td>False</td>\n",
       "    </tr>\n",
       "    <tr>\n",
       "      <th>22042</th>\n",
       "      <td>im done test</td>\n",
       "      <td>1</td>\n",
       "      <td>Not considered</td>\n",
       "      <td>0.004766</td>\n",
       "      <td>False</td>\n",
       "    </tr>\n",
       "    <tr>\n",
       "      <th>22769</th>\n",
       "      <td>wanna diebottom text</td>\n",
       "      <td>1</td>\n",
       "      <td>Not considered</td>\n",
       "      <td>0.004610</td>\n",
       "      <td>False</td>\n",
       "    </tr>\n",
       "    <tr>\n",
       "      <th>16323</th>\n",
       "      <td>walking outside wandering area looked around s...</td>\n",
       "      <td>1</td>\n",
       "      <td>Not considered</td>\n",
       "      <td>0.004064</td>\n",
       "      <td>False</td>\n",
       "    </tr>\n",
       "    <tr>\n",
       "      <th>9126</th>\n",
       "      <td>hey guys watching seth meyers made joke longes...</td>\n",
       "      <td>1</td>\n",
       "      <td>Not considered</td>\n",
       "      <td>0.003799</td>\n",
       "      <td>False</td>\n",
       "    </tr>\n",
       "  </tbody>\n",
       "</table>\n",
       "</div>"
      ],
      "text/plain": [
       "                                                    text  label  \\\n",
       "6059   little success finding one free text therapy apps      1   \n",
       "24180                            dont itdont people love      1   \n",
       "26422  good videos selflyingon hope may help others h...      1   \n",
       "4201   ur serious gonna kill urself theres talking le...      1   \n",
       "12731  feel like girl best friend  years slowly becom...      1   \n",
       "5500   failed attemptetried drowning ocean got nevk h...      1   \n",
       "27399  academic pressures causing cousin consider red...      1   \n",
       "13190  theres nothing left moves anymore emotions lon...      1   \n",
       "3826   personal article mental health holdback darker...      1   \n",
       "1688   creating final playlistim thinking song or son...      1   \n",
       "17138                        ever get better getting bad      1   \n",
       "10587  people say want hear give uphas anyone else ex...      1   \n",
       "16962             get funnybecome hoego doctorskill list      1   \n",
       "26297  leave nephewniece personal memorytoday middle ...      1   \n",
       "3693                          hate worldone day day come      1   \n",
       "7094   ive given upi need someone talk to im close it...      1   \n",
       "8656   girl asked depresseda girl class know well im ...      1   \n",
       "19632                    want break free want break free      1   \n",
       "22664  im sad right nowwhy cant loved lonely sad that...      1   \n",
       "3509    aight imma head outanyone need something im gone      1   \n",
       "17562  comments posts want talk okay guessi post wish...      1   \n",
       "20929         lonelyi know im lonely friends lonely time      1   \n",
       "14233     ruins day wake lol morning wake dissapointment      1   \n",
       "11378  struggle hiding low mood act happy not childre...      1   \n",
       "7839   please reply see this many thanks anyone see p...      1   \n",
       "14078                          free promised freedom lie      1   \n",
       "14564  anyone elsei murderous tendencies dont act alt...      1   \n",
       "6280    years ago decided come korea study electronic...      1   \n",
       "8434   im still alive im deleting reddit tomorrowthan...      1   \n",
       "25533  allowed posti posted hour half ago nothings sh...      1   \n",
       "18011  never thought id b alone christmasits kinda se...      1   \n",
       "20707                    ittook everything have bye yall      1   \n",
       "15596  ignoring him thats post about basically time e...      1   \n",
       "12024  wheelof chemicals ampxb morals ampxb maybe per...      1   \n",
       "14675  hey guys games play sad want distract yourself...      1   \n",
       "9882   one favorite songs feeling hopelesshttpswwwyou...      1   \n",
       "20686  music going listen gopersonally im going liste...      1   \n",
       "25790  seeing thingsso lately ive daydream type thing...      1   \n",
       "22384       brought existencethis shit doesnt make sense      1   \n",
       "25332                   theres something wrong medeleted      1   \n",
       "17338  wanna stick knife me end rightim  recently dis...      1   \n",
       "4743                                               hello      1   \n",
       "12957  boyfriend dramaagainhe hasnt talked day yet he...      1   \n",
       "8378   whats favorite method finish allwhats method b...      1   \n",
       "25133      something like free willi think so make sense      1   \n",
       "14106    great year mask makers acrylic installersbey...      1   \n",
       "17259  fucking manybeen thinking deleting account mig...      1   \n",
       "7937   anyone wanna add snapchat incase need someone ...      1   \n",
       "3177   im gonna go see one last movie grandparentsthe...      1   \n",
       "22042                                       im done test      1   \n",
       "22769                               wanna diebottom text      1   \n",
       "16323  walking outside wandering area looked around s...      1   \n",
       "9126   hey guys watching seth meyers made joke longes...      1   \n",
       "\n",
       "           prediction  probabilities  correct  \n",
       "6059   Not considered       0.098274    False  \n",
       "24180  Not considered       0.097264    False  \n",
       "26422  Not considered       0.097180    False  \n",
       "4201   Not considered       0.092526    False  \n",
       "12731  Not considered       0.087031    False  \n",
       "5500   Not considered       0.086926    False  \n",
       "27399  Not considered       0.082575    False  \n",
       "13190  Not considered       0.082519    False  \n",
       "3826   Not considered       0.082515    False  \n",
       "1688   Not considered       0.081796    False  \n",
       "17138  Not considered       0.080565    False  \n",
       "10587  Not considered       0.079198    False  \n",
       "16962  Not considered       0.079026    False  \n",
       "26297  Not considered       0.076950    False  \n",
       "3693   Not considered       0.074905    False  \n",
       "7094   Not considered       0.072228    False  \n",
       "8656   Not considered       0.070388    False  \n",
       "19632  Not considered       0.070190    False  \n",
       "22664  Not considered       0.068225    False  \n",
       "3509   Not considered       0.064407    False  \n",
       "17562  Not considered       0.063001    False  \n",
       "20929  Not considered       0.060693    False  \n",
       "14233  Not considered       0.059756    False  \n",
       "11378  Not considered       0.058183    False  \n",
       "7839   Not considered       0.056310    False  \n",
       "14078  Not considered       0.054429    False  \n",
       "14564  Not considered       0.053744    False  \n",
       "6280   Not considered       0.053370    False  \n",
       "8434   Not considered       0.044261    False  \n",
       "25533  Not considered       0.035680    False  \n",
       "18011  Not considered       0.034947    False  \n",
       "20707  Not considered       0.034706    False  \n",
       "15596  Not considered       0.032684    False  \n",
       "12024  Not considered       0.028395    False  \n",
       "14675  Not considered       0.026976    False  \n",
       "9882   Not considered       0.026211    False  \n",
       "20686  Not considered       0.025738    False  \n",
       "25790  Not considered       0.022065    False  \n",
       "22384  Not considered       0.021857    False  \n",
       "25332  Not considered       0.020408    False  \n",
       "17338  Not considered       0.019968    False  \n",
       "4743   Not considered       0.018765    False  \n",
       "12957  Not considered       0.016432    False  \n",
       "8378   Not considered       0.015337    False  \n",
       "25133  Not considered       0.015293    False  \n",
       "14106  Not considered       0.012557    False  \n",
       "17259  Not considered       0.012023    False  \n",
       "7937   Not considered       0.007671    False  \n",
       "3177   Not considered       0.006114    False  \n",
       "22042  Not considered       0.004766    False  \n",
       "22769  Not considered       0.004610    False  \n",
       "16323  Not considered       0.004064    False  \n",
       "9126   Not considered       0.003799    False  "
      ]
     },
     "execution_count": 77,
     "metadata": {},
     "output_type": "execute_result"
    }
   ],
   "source": [
    "# False negatives\n",
    "worst_false_negatives = wrong_samples[wrong_samples[\"probabilities\"] < 0.1]\n",
    "worst_false_negatives"
   ]
  },
  {
   "cell_type": "code",
   "execution_count": 78,
   "id": "3cb782d1",
   "metadata": {
    "execution": {
     "iopub.execute_input": "2023-03-17T16:38:15.532266Z",
     "iopub.status.busy": "2023-03-17T16:38:15.531390Z",
     "iopub.status.idle": "2023-03-17T16:38:15.539692Z",
     "shell.execute_reply": "2023-03-17T16:38:15.537747Z"
    },
    "papermill": {
     "duration": 0.261453,
     "end_time": "2023-03-17T16:38:15.542488",
     "exception": false,
     "start_time": "2023-03-17T16:38:15.281035",
     "status": "completed"
    },
    "tags": []
   },
   "outputs": [
    {
     "name": "stdout",
     "output_type": "stream",
     "text": [
      "Sentence:\n",
      " best way commit redflag guns rope knives \n",
      "\n",
      "Sentence:\n",
      " dont want kill hate alive havent really gotten point want kill myself wouldnt know get around people events still keep wanting end havent enjoyed life idk long \n",
      "\n",
      "Sentence:\n",
      " normal everytime suicidal thoughts feel happy peace \n",
      "\n",
      "Sentence:\n",
      " counts diagnosed depressed clinically depressed get regular treatments therapist depressive suicidal thoughts something doctor fills out sort process go through \n",
      "\n",
      "Sentence:\n",
      " nothing live fuck living feel like wanna kill myself anything live anywayi cant even motivate anything ffs fuck life shit grade im shit anything cant fucking motivate learn anything even though im interested try fucking fail everything live dying efficient im living waste resources thing thats keeping killing courage itand ill glad someone could help itbut fuck would thatjust like failed everything cant even manage kms people fucking except us human beings living rock floating space rock eventually hit another floating rock go extinct live happen eventually dying difference way thinking life hope die sleep way would better nobody guilty die peacefully without pain from teen whos depressed suicidal thought existential crisis \n",
      "\n",
      "Sentence:\n",
      " someone talk im lonley suicidal fucked someone talk please talk whatever want \n",
      "\n",
      "Sentence:\n",
      " much karma need post here alt  still let post could check text wanted post gramatical mistakes thanks lt im sorry mum please blame yourself fault loved much tried give best life enough decision decided wanna live anymore heavily bullied no one responsible this maybe proud me maybe ill praised things ive done maybe take granted wanted die wanted end suffering mind hell blame noticing completely fault please im better now sure whether pills alcohol me noose around neck im better please excuse cuts forearms wrists palms elbows please help part rom elbow palm called thanks theyre fault either im sorry probably politician like wanted be im sorry im best school kids always better me find this im probably somewhere better fault im sorry \n",
      "\n",
      "Sentence:\n",
      " confront mom trigger warning depression self harm originally posted radvice need answers asap okay ill try make short possible basically life going downhill friends left me cant keep single relationship anyone im beginning feel burned school first time grades quality assignments slowly dropping context ive self harming since  im  now ive clean  months barely resist urge anymore cant even think whats stopping me lied psychiatrists therapists telling ive never suicidal thoughts hurt anyway also havent therapy  months person close best friend knew self harming beginning parents dont even know know struggle anxiety depression dont know self harm ive expressing interest going inpatient recently only friend said thinks would good me ill tell relationship mom context shes emotional im closed off gets upset lot time dont like touching hugging kissing me used fight lot going school think little better im homeschooled today good day lot fun hanging sister mom im room feel horrible feel crashing down really want go downstairs hug mom cry tell everything convince put outpatient im scared ive never felt like wanting tell probably wont ever feel like do \n",
      "\n",
      "Sentence:\n",
      " believe  months now  months since turned back god concluded various reasons cannot loving god therefore hope future miss it miss something could believe in gone now never come back im dark place time hope nobody coming save me end die alone try \n",
      "\n",
      "Sentence:\n",
      " tell parents consider redflag alot tell them idea think much tips tell them im scared say looking attention would want commit redflag life great \n",
      "\n"
     ]
    }
   ],
   "source": [
    "# Accessing to sentences (10 worst false positives)\n",
    "for sentence in worst_false_positives[\"text\"][:10]:\n",
    "    print(\"Sentence:\\n\",sentence, \"\\n\")"
   ]
  },
  {
   "cell_type": "code",
   "execution_count": 79,
   "id": "ab95952d",
   "metadata": {
    "execution": {
     "iopub.execute_input": "2023-03-17T16:38:16.119575Z",
     "iopub.status.busy": "2023-03-17T16:38:16.118796Z",
     "iopub.status.idle": "2023-03-17T16:38:16.125351Z",
     "shell.execute_reply": "2023-03-17T16:38:16.123961Z"
    },
    "papermill": {
     "duration": 0.278382,
     "end_time": "2023-03-17T16:38:16.128281",
     "exception": false,
     "start_time": "2023-03-17T16:38:15.849899",
     "status": "completed"
    },
    "tags": []
   },
   "outputs": [
    {
     "name": "stdout",
     "output_type": "stream",
     "text": [
      "Sentence:\n",
      " whats favorite method finish allwhats method bee thinking whats natural share story facing consequence \n",
      "\n",
      "Sentence:\n",
      " something like free willi think so make sense \n",
      "\n",
      "Sentence:\n",
      "   great year mask makers acrylic installersbeyond  worst year recall \n",
      "\n",
      "Sentence:\n",
      " fucking manybeen thinking deleting account might well leave trace theres parallel l saw \n",
      "\n",
      "Sentence:\n",
      " anyone wanna add snapchat incase need someone at time chat chillas said add chill maybe empty out remove dust vacuum cleaner yknow sc byrnez \n",
      "\n",
      "Sentence:\n",
      " im gonna go see one last movie grandparentsthe im gonei dare change mind \n",
      "\n",
      "Sentence:\n",
      " im done test \n",
      "\n",
      "Sentence:\n",
      " wanna diebottom text \n",
      "\n",
      "Sentence:\n",
      " walking outside wandering area looked around saw lights car lights traffic lights building lights parking lot lights beautiful know cried seeing them lights \n",
      "\n",
      "Sentence:\n",
      " hey guys watching seth meyers made joke longest pizza event research june th fontana speedway california mile pizza needs eaten count towards record free event thinking somewhat related random acts pizza lifestyle \n",
      "\n"
     ]
    }
   ],
   "source": [
    "# Accessing to sentences (10 worst false negatives)\n",
    "for sentence in worst_false_negatives[\"text\"][-10:]:\n",
    "    print(\"Sentence:\\n\",sentence, \"\\n\")"
   ]
  },
  {
   "cell_type": "markdown",
   "id": "feb31fba",
   "metadata": {},
   "source": []
  },
  {
   "cell_type": "markdown",
   "id": "158bd368",
   "metadata": {},
   "source": [
    "# Conclusions and next Steps\n",
    "\n",
    "Based on our analysis, it appears that the Convolutional model is currently our best performing model. However, it's important to note that this assessment is based on the current set of hyperparameters. Since the training time for these models is not substantial on a GPU, we could further improve the other models by tuning their hyperparameters and evaluating their performance. Additionally, we need to consider the nature of the problem at hand. Depending on the specific requirements, we might need a more precise or higher accuracy model.\n",
    "\n",
    "Furthermore, it is crucial to consider [multiple metrics](https://neptune.ai/blog/evaluation-metrics-binary-classification#:~:text=What%20exactly%20are%20classification%20metrics,to%20classes%3A%20positive%20and%20negative.) for evaluating the models. Relying solely on accuracy might be inadequate if our dataset is imbalanced. Therefore, it is always advisable to examine various metrics to gain a comprehensive understanding of the models' performance.\n",
    "\n",
    "We can utilize the insights gained from the visualizations to continue refining our models. There is still room for improvement, and we should explore different techniques such as [model ensembling](https://scikit-learn.org/stable/modules/ensemble.html) or fine-tuning a prebuilt model like the [Universal Sentence Enconder (USE)](https://tfhub.dev/google/universal-sentence-encoder/4). The USE has demonstrated impressive performance in similar tasks such as movie review sentiment analysis or [Amazon review sentiment analysis](https://www.kaggle.com/code/kshitijmohan/sentiment-analysis-universal-sentence-encoder-91).\n",
    "\n",
    "By leveraging what we have learned and incorporating these approaches, we can continue enhancing our models and striving for even better results."
   ]
  },
  {
   "cell_type": "code",
   "execution_count": null,
   "id": "85fade11",
   "metadata": {},
   "outputs": [],
   "source": []
  }
 ],
 "metadata": {
  "kernelspec": {
   "display_name": "Python [conda env:jupyter_env] *",
   "language": "python",
   "name": "conda-env-jupyter_env-py"
  },
  "language_info": {
   "codemirror_mode": {
    "name": "ipython",
    "version": 3
   },
   "file_extension": ".py",
   "mimetype": "text/x-python",
   "name": "python",
   "nbconvert_exporter": "python",
   "pygments_lexer": "ipython3",
   "version": "3.10.10"
  },
  "papermill": {
   "default_parameters": {},
   "duration": 332.283291,
   "end_time": "2023-03-17T16:38:19.374009",
   "environment_variables": {},
   "exception": null,
   "input_path": "__notebook__.ipynb",
   "output_path": "__notebook__.ipynb",
   "parameters": {},
   "start_time": "2023-03-17T16:32:47.090718",
   "version": "2.4.0"
  }
 },
 "nbformat": 4,
 "nbformat_minor": 5
}
